{
  "cells": [
    {
      "cell_type": "raw",
      "metadata": {
        "vscode": {
          "languageId": "raw"
        }
      },
      "source": [
        "# Sparse Regression Exploration\n",
        "## Finding Sparse Weight Alternatives for Gene Expression Reconstruction\n",
        "\n",
        "Given a weighted sum $y(t) = w_{11} x_1(t) + w_{12} x_2(t) + \\ldots + w_{1n} x_n(t)$, \n",
        "we want to find a **sparse** alternative weight vector $w^*$ that reconstructs $y(t)$ with most elements being zero.\n"
      ]
    },
    {
      "cell_type": "code",
      "execution_count": 1,
      "metadata": {},
      "outputs": [
        {
          "name": "stdout",
          "output_type": "stream",
          "text": [
            "Project root: /home/pfrancois/dannyhuang/gfn_test/discrete-gflownet\n"
          ]
        }
      ],
      "source": [
        "import sys\n",
        "import os\n",
        "import numpy as np\n",
        "import matplotlib.pyplot as plt\n",
        "from sklearn.linear_model import Lasso, LassoCV, ElasticNet\n",
        "from sklearn.feature_selection import SelectKBest, f_regression\n",
        "from sklearn.metrics import mean_squared_error, r2_score\n",
        "from scipy.optimize import minimize\n",
        "import time\n",
        "\n",
        "# Add project root to path\n",
        "current_dir = os.getcwd()\n",
        "if 'notebooks' in current_dir:\n",
        "    project_root = os.path.abspath(os.path.join(current_dir, '..'))\n",
        "else:\n",
        "    project_root = current_dir\n",
        "\n",
        "if project_root not in sys.path:\n",
        "    sys.path.append(project_root)\n",
        "\n",
        "from reward_func.evo_devo import somitogenesis_sol_func, weights_to_matrix\n",
        "\n",
        "print(f\"Project root: {project_root}\")\n"
      ]
    },
    {
      "cell_type": "code",
      "execution_count": null,
      "metadata": {},
      "outputs": [],
      "source": []
    },
    {
      "cell_type": "code",
      "execution_count": null,
      "metadata": {},
      "outputs": [],
      "source": []
    },
    {
      "cell_type": "code",
      "execution_count": null,
      "metadata": {},
      "outputs": [],
      "source": []
    },
    {
      "cell_type": "raw",
      "metadata": {
        "vscode": {
          "languageId": "raw"
        }
      },
      "source": [
        "## 1. Generate Data from Somitogenesis System\n"
      ]
    },
    {
      "cell_type": "code",
      "execution_count": 2,
      "metadata": {},
      "outputs": [
        {
          "name": "stdout",
          "output_type": "stream",
          "text": [
            "System: 3 nodes, 9 weights\n",
            "State length: 12\n",
            "Original weight matrix:\n",
            "[[ 165  175  200]\n",
            " [ -75 -120  120]\n",
            " [-185 -165  155]]\n",
            "\n",
            "First row weights: [165 175 200]\n",
            "Number of zeros in original: 0\n"
          ]
        }
      ],
      "source": [
        "# Test state (3-node system)\n",
        "test_state = [165, -120, -75, 175, 155, -185, 200, -165, 120, -110, 20, -105]\n",
        "\n",
        "# Calculate system parameters\n",
        "n_nodes = int((-1 + (1 + 4*len(test_state))**0.5) / 2)\n",
        "n_weights = n_nodes * n_nodes\n",
        "cell_position = 50  # Middle cell\n",
        "\n",
        "print(f\"System: {n_nodes} nodes, {n_weights} weights\")\n",
        "print(f\"State length: {len(test_state)}\")\n",
        "\n",
        "# Get gene expression trajectories\n",
        "t_sim, cell_trajectory, _ = somitogenesis_sol_func(test_state, cell_position=cell_position)\n",
        "\n",
        "# Get original weight matrix and first row\n",
        "W_original = weights_to_matrix(test_state[:n_weights])\n",
        "w_original = W_original[0, :]  # First row\n",
        "\n",
        "# Calculate original weighted sum\n",
        "y_original = cell_trajectory @ w_original\n",
        "\n",
        "print(f\"Original weight matrix:\")\n",
        "print(W_original)\n",
        "print(f\"\\nFirst row weights: {w_original}\")\n",
        "print(f\"Number of zeros in original: {np.sum(w_original == 0)}\")\n"
      ]
    },
    {
      "cell_type": "raw",
      "metadata": {
        "vscode": {
          "languageId": "raw"
        }
      },
      "source": [
        "## 2. Sparse Regression Methods\n"
      ]
    },
    {
      "cell_type": "code",
      "execution_count": 4,
      "metadata": {},
      "outputs": [
        {
          "name": "stdout",
          "output_type": "stream",
          "text": [
            "Data shape: X=(200, 3), y=(200,)\n",
            "Time range: 0.0 to 90.0\n",
            "Original reconstruction MSE: 0.00e+00\n"
          ]
        }
      ],
      "source": [
        "# Prepare data for regression\n",
        "X = cell_trajectory  # [time_points, n_genes]\n",
        "y = y_original       # [time_points]\n",
        "\n",
        "print(f\"Data shape: X={X.shape}, y={y.shape}\")\n",
        "print(f\"Time range: {t_sim[0]:.1f} to {t_sim[-1]:.1f}\")\n",
        "print(f\"Original reconstruction MSE: {mean_squared_error(y, X @ w_original):.2e}\")\n"
      ]
    },
    {
      "cell_type": "raw",
      "metadata": {
        "vscode": {
          "languageId": "raw"
        }
      },
      "source": [
        "### 2.1 LASSO Regression (L1 Regularization)\n"
      ]
    },
    {
      "cell_type": "code",
      "execution_count": 5,
      "metadata": {},
      "outputs": [
        {
          "data": {
            "image/png": "[encoded data removed]",
            "text/plain": [
              "<Figure size 1500x1000 with 5 Axes>"
            ]
          },
          "metadata": {},
          "output_type": "display_data"
        },
        {
          "name": "stdout",
          "output_type": "stream",
          "text": [
            "\n",
            "LASSO Results Summary:\n",
            "Alpha\t\tZeros\t\tMSE\t\tR²\t\tWeights\n",
            "--------------------------------------------------------------------------------\n",
            "0.001\t\t0/3\t\t1.72e-02\t0.9993\t[129.84833145 172.82283603 224.63005376]\n",
            "0.01\t\t1/3\t\t1.61e+00\t0.9338\t[  0.         156.23998278 257.36377501]\n",
            "0.1\t\t3/3\t\t4.12e+01\t-0.6927\t[0. 0. 0.]\n",
            "1\t\t3/3\t\t4.12e+01\t-0.6927\t[0. 0. 0.]\n",
            "10\t\t3/3\t\t4.12e+01\t-0.6927\t[0. 0. 0.]\n"
          ]
        }
      ],
      "source": [
        "# Try different LASSO alpha values\n",
        "alphas = [0.001, 0.01, 0.1, 1.0, 10.0]\n",
        "lasso_results = {}\n",
        "\n",
        "fig, axes = plt.subplots(2, 3, figsize=(15, 10))\n",
        "axes = axes.flatten()\n",
        "\n",
        "for i, alpha in enumerate(alphas):\n",
        "    # Fit LASSO\n",
        "    lasso = Lasso(alpha=alpha, max_iter=10000)\n",
        "    lasso.fit(X, y)\n",
        "    \n",
        "    w_lasso = lasso.coef_\n",
        "    y_pred = X @ w_lasso\n",
        "    \n",
        "    # Store results\n",
        "    lasso_results[alpha] = {\n",
        "        'weights': w_lasso,\n",
        "        'n_zeros': np.sum(np.abs(w_lasso) < 1e-6),\n",
        "        'mse': mean_squared_error(y, y_pred),\n",
        "        'r2': r2_score(y, y_pred)\n",
        "    }\n",
        "    \n",
        "    # Plot reconstruction\n",
        "    axes[i].plot(t_sim, y, 'b-', label='Original', linewidth=2)\n",
        "    axes[i].plot(t_sim, y_pred, 'r--', label='LASSO', linewidth=2)\n",
        "    axes[i].set_title(f'α={alpha}, Zeros: {lasso_results[alpha][\"n_zeros\"]}/{n_nodes}')\n",
        "    axes[i].set_xlabel('Time')\n",
        "    axes[i].set_ylabel('y(t)')\n",
        "    axes[i].legend()\n",
        "    axes[i].grid(True, alpha=0.3)\n",
        "\n",
        "# Remove extra subplot\n",
        "fig.delaxes(axes[-1])\n",
        "plt.tight_layout()\n",
        "plt.show()\n",
        "\n",
        "# Print results summary\n",
        "print(\"\\nLASSO Results Summary:\")\n",
        "print(\"Alpha\\t\\tZeros\\t\\tMSE\\t\\tR²\\t\\tWeights\")\n",
        "print(\"-\" * 80)\n",
        "for alpha in alphas:\n",
        "    res = lasso_results[alpha]\n",
        "    print(f\"{alpha:g}\\t\\t{res['n_zeros']}/{n_nodes}\\t\\t{res['mse']:.2e}\\t{res['r2']:.4f}\\t{res['weights']}\")\n"
      ]
    },
    {
      "cell_type": "raw",
      "metadata": {
        "vscode": {
          "languageId": "raw"
        }
      },
      "source": [
        "### 2.2 Orthogonal Matching Pursuit (OMP)\n"
      ]
    },
    {
      "cell_type": "code",
      "execution_count": 6,
      "metadata": {},
      "outputs": [
        {
          "data": {
            "image/png": "[encoded data removed]",
            "text/plain": [
              "<Figure size 1200x800 with 4 Axes>"
            ]
          },
          "metadata": {},
          "output_type": "display_data"
        },
        {
          "name": "stdout",
          "output_type": "stream",
          "text": [
            "\n",
            "OMP Results Summary:\n",
            "Non-zero\t\tZeros\t\tMSE\t\tR²\t\tWeights\n",
            "--------------------------------------------------------------------------------\n",
            "1\t\t2/3\t\t1.18e+01\t0.5160\t[  0.         320.22007061   0.        ]\n",
            "2\t\t1/3\t\t1.02e-02\t0.9996\t[362.18384114 178.37587683   0.        ]\n",
            "3\t\t0/3\t\t1.95e-26\t1.0000\t[165. 175. 200.]\n",
            "3\t\t0/3\t\t1.95e-26\t1.0000\t[165. 175. 200.]\n"
          ]
        }
      ],
      "source": [
        "from sklearn.linear_model import OrthogonalMatchingPursuit\n",
        "\n",
        "# Try different numbers of non-zero coefficients\n",
        "n_nonzero_coefs = [1, 2, 3, n_nodes]\n",
        "omp_results = {}\n",
        "\n",
        "fig, axes = plt.subplots(2, 2, figsize=(12, 8))\n",
        "axes = axes.flatten()\n",
        "\n",
        "for i, n_coef in enumerate(n_nonzero_coefs):\n",
        "    if n_coef > n_nodes:\n",
        "        continue\n",
        "        \n",
        "    # Fit OMP\n",
        "    omp = OrthogonalMatchingPursuit(n_nonzero_coefs=n_coef)\n",
        "    omp.fit(X, y)\n",
        "    \n",
        "    w_omp = omp.coef_\n",
        "    y_pred = X @ w_omp\n",
        "    \n",
        "    # Store results\n",
        "    omp_results[n_coef] = {\n",
        "        'weights': w_omp,\n",
        "        'n_zeros': np.sum(np.abs(w_omp) < 1e-6),\n",
        "        'mse': mean_squared_error(y, y_pred),\n",
        "        'r2': r2_score(y, y_pred)\n",
        "    }\n",
        "    \n",
        "    # Plot reconstruction\n",
        "    axes[i].plot(t_sim, y, 'b-', label='Original', linewidth=2)\n",
        "    axes[i].plot(t_sim, y_pred, 'purple', linestyle='--', label='OMP', linewidth=2)\n",
        "    axes[i].set_title(f'OMP: {n_coef} non-zero, Zeros: {omp_results[n_coef][\"n_zeros\"]}/{n_nodes}')\n",
        "    axes[i].set_xlabel('Time')\n",
        "    axes[i].set_ylabel('y(t)')\n",
        "    axes[i].legend()\n",
        "    axes[i].grid(True, alpha=0.3)\n",
        "\n",
        "plt.tight_layout()\n",
        "plt.show()\n",
        "\n",
        "# Print OMP results\n",
        "print(\"\\nOMP Results Summary:\")\n",
        "print(\"Non-zero\\t\\tZeros\\t\\tMSE\\t\\tR²\\t\\tWeights\")\n",
        "print(\"-\" * 80)\n",
        "for n_coef in n_nonzero_coefs:\n",
        "    if n_coef in omp_results:\n",
        "        res = omp_results[n_coef]\n",
        "        print(f\"{n_coef}\\t\\t{res['n_zeros']}/{n_nodes}\\t\\t{res['mse']:.2e}\\t{res['r2']:.4f}\\t{res['weights']}\")\n"
      ]
    },
    {
      "cell_type": "raw",
      "metadata": {
        "vscode": {
          "languageId": "raw"
        }
      },
      "source": [
        "## 3. Interactive Exploration\n"
      ]
    },
    {
      "cell_type": "code",
      "execution_count": 10,
      "metadata": {},
      "outputs": [
        {
          "data": {
            "application/vnd.jupyter.widget-view+json": {
              "model_id": "d9c17a6f49f04c84bfec3cb307c5072e",
              "version_major": 2,
              "version_minor": 0
            },
            "text/plain": [
              "interactive(children=(Dropdown(description='method', options=('LASSO', 'OMP'), value='LASSO'), FloatSlider(val…"
            ]
          },
          "metadata": {},
          "output_type": "display_data"
        },
        {
          "data": {
            "text/plain": [
              "<function __main__.explore_sparsity(method='LASSO', alpha=0.1, n_coef=2)>"
            ]
          },
          "execution_count": 10,
          "metadata": {},
          "output_type": "execute_result"
        }
      ],
      "source": [
        "from ipywidgets import interact, FloatSlider, Dropdown\n",
        "\n",
        "def explore_sparsity(method='LASSO', alpha=0.1, n_coef=2):\n",
        "    \"\"\"Interactive function to explore different sparsity methods\"\"\"\n",
        "    \n",
        "    if method == 'LASSO':\n",
        "        lasso = Lasso(alpha=alpha, max_iter=10000)\n",
        "        lasso.fit(X, y)\n",
        "        w_sparse = lasso.coef_\n",
        "        \n",
        "    elif method == 'OMP':\n",
        "        omp = OrthogonalMatchingPursuit(n_nonzero_coefs=min(n_coef, n_nodes))\n",
        "        omp.fit(X, y)\n",
        "        w_sparse = omp.coef_\n",
        "    \n",
        "    # Calculate reconstruction\n",
        "    y_pred = X @ w_sparse\n",
        "    mse = mean_squared_error(y, y_pred)\n",
        "    r2 = r2_score(y, y_pred)\n",
        "    n_zeros = np.sum(np.abs(w_sparse) < 1e-6)\n",
        "    \n",
        "    # Plot\n",
        "    plt.figure(figsize=(12, 5))\n",
        "    \n",
        "    plt.subplot(1, 2, 1)\n",
        "    plt.plot(t_sim, y, 'b-', label='Original y(t)', linewidth=2)\n",
        "    plt.plot(t_sim, y_pred, 'r--', label=f'{method} reconstruction', linewidth=2)\n",
        "    plt.xlabel('Time')\n",
        "    plt.ylabel('y(t)')\n",
        "    plt.title(f'{method} Reconstruction\\\\nZeros: {n_zeros}/{n_nodes}, MSE: {mse:.2e}, R²: {r2:.4f}')\n",
        "    plt.legend()\n",
        "    plt.grid(True, alpha=0.3)\n",
        "    \n",
        "    plt.subplot(1, 2, 2)\n",
        "    gene_names = [f'Gene {i+1}' for i in range(n_nodes)]\n",
        "    colors = ['red' if abs(w) < 1e-6 else 'blue' for w in w_sparse]\n",
        "    plt.bar(gene_names, w_sparse, color=colors, alpha=0.7)\n",
        "    plt.axhline(y=0, color='black', linestyle='-', alpha=0.3)\n",
        "    plt.ylabel('Weight Value')\n",
        "    plt.title('Sparse Weights (Red = Zero)')\n",
        "    plt.xticks(rotation=45)\n",
        "    plt.grid(True, alpha=0.3)\n",
        "    \n",
        "    plt.tight_layout()\n",
        "    plt.show()\n",
        "    \n",
        "    print(f\"Original weights: {w_original}\")\n",
        "    print(f\"Sparse weights:   {np.round(w_sparse, 3)}\")\n",
        "    print(f\"Sparsity improvement: {n_zeros - np.sum(w_original == 0)} more zeros\")\n",
        "\n",
        "# Create interactive widget\n",
        "interact(explore_sparsity,\n",
        "         method=Dropdown(options=['LASSO', 'OMP'], value='LASSO'),\n",
        "         alpha=FloatSlider(min=0.001, max=2.0, step=0.01, value=0.1, description='LASSO α'),\n",
        "         n_coef=FloatSlider(min=1, max=n_nodes, step=1, value=2, description='OMP coeffs'))\n"
      ]
    },
    {
      "cell_type": "raw",
      "metadata": {
        "vscode": {
          "languageId": "raw"
        }
      },
      "source": [
        "## 4. Key Insights\n",
        "\n",
        "### Mathematical Problem\n",
        "This is a **sparse regression** or **sparse approximation** problem:\n",
        "\n",
        "$$\\min_w \\|w\\|_0 \\quad \\text{subject to} \\quad \\|Xw - y\\|_2 \\leq \\epsilon$$\n",
        "\n",
        "### Methods Compared:\n",
        "1. **LASSO (L₁)**: Convex relaxation, automatic feature selection\n",
        "2. **OMP**: Greedy selection, exact sparsity control\n",
        "\n",
        "### Trade-offs:\n",
        "- **Sparsity vs. Accuracy**: More zeros usually mean higher reconstruction error\n",
        "- **Computational Cost**: LASSO > OMP\n",
        "- **Interpretability**: OMP gives cleanest sparse solutions\n",
        "\n",
        "### Applications:\n",
        "- **Network Compression**: Reducing complexity while maintaining function\n",
        "- **Feature Selection**: Finding most important gene interactions\n",
        "- **Model Simplification**: Creating interpretable sparse models\n",
        "\n",
        "### Key Findings:\n",
        "- **LASSO** automatically finds sparse solutions by penalizing L1 norm\n",
        "- **OMP** gives exact control over sparsity level\n",
        "- **Trade-off**: Sparse models may sacrifice some accuracy for interpretability\n",
        "- **Biological Insight**: Identifies which gene interactions are most critical for pattern formation\n"
      ]
    },
    {
      "cell_type": "raw",
      "metadata": {},
      "source": []
    },
    {
      "cell_type": "raw",
      "metadata": {},
      "source": []
    },
    {
      "cell_type": "raw",
      "metadata": {},
      "source": []
    },
    {
      "cell_type": "raw",
      "metadata": {},
      "source": []
    },
    {
      "cell_type": "raw",
      "metadata": {},
      "source": []
    },
    {
      "cell_type": "raw",
      "metadata": {},
      "source": []
    },
    {
      "cell_type": "raw",
      "metadata": {
        "vscode": {
          "languageId": "raw"
        }
      },
      "source": [
        "## 5. 7x7 System Analysis - All Cell Positions\n",
        "\n",
        "Now let's tackle a larger, more realistic problem: a 7-node system using data from ALL 100 cell positions. This gives us much more data to find better sparse solutions.\n"
      ]
    },
    {
      "cell_type": "code",
      "execution_count": 2,
      "metadata": {},
      "outputs": [
        {
          "name": "stdout",
          "output_type": "stream",
          "text": [
            "7x7 System: 7 nodes, 49 weights\n",
            "State length: 56\n",
            "Original 7x7 weight matrix:\n",
            "[[ 165  175  200 -105  -10   55    5]\n",
            " [ -75 -120  120  -55  105    5   -5]\n",
            " [-185 -165  155  160  100   10   10]\n",
            " [  20  -15  200 -110  155    0   50]\n",
            " [ -15  160   55 -150    5   50    0]\n",
            " [-155   55   -5 -100   10 -150    5]\n",
            " [  50   -5   50   50    0  -50  -50]]\n",
            "\n",
            "First row weights: [ 165  175  200 -105  -10   55    5]\n",
            "Number of zeros in original: 0\n"
          ]
        }
      ],
      "source": [
        "# 7x7 system from test_grid.ipynb\n",
        "test_state_7x7 = [165, -120, -75, 175, 155, -185, 200, -165, 120, -110, 20, -105, -15, -55, 200, 160, 5, -15, -10, 160, 105, 55, 100, -150, 155, -150, -155, 55, 55, 5, -5, 10, -100, 0, 10, 50, -50, 50, 5, -5, -5, 50, 10, 50, 50, 0, 0, -50, 5, -200, 175, 125, -130, -50, 50, -5]\n",
        "\n",
        "# Calculate system parameters for 7x7\n",
        "n_nodes_7x7 = int((-1 + (1 + 4*len(test_state_7x7))**0.5) / 2)\n",
        "n_weights_7x7 = n_nodes_7x7 * n_nodes_7x7\n",
        "\n",
        "print(f\"7x7 System: {n_nodes_7x7} nodes, {n_weights_7x7} weights\")\n",
        "print(f\"State length: {len(test_state_7x7)}\")\n",
        "\n",
        "# Get original weight matrix and first row\n",
        "W_original_7x7 = weights_to_matrix(test_state_7x7[:n_weights_7x7])\n",
        "w_original_7x7 = W_original_7x7[0, :]  # First row\n",
        "\n",
        "print(f\"Original 7x7 weight matrix:\")\n",
        "print(W_original_7x7)\n",
        "print(f\"\\nFirst row weights: {w_original_7x7}\")\n",
        "print(f\"Number of zeros in original: {np.sum(w_original_7x7 == 0)}\")\n"
      ]
    },
    {
      "cell_type": "code",
      "execution_count": 3,
      "metadata": {},
      "outputs": [
        {
          "name": "stdout",
          "output_type": "stream",
          "text": [
            "Generating trajectories for all 100 cell positions...\n"
          ]
        },
        {
          "name": "stdout",
          "output_type": "stream",
          "text": [
            "Processed 20/100 cells...\n",
            "Processed 40/100 cells...\n",
            "Processed 60/100 cells...\n",
            "Processed 80/100 cells...\n",
            "Processed 100/100 cells...\n",
            "Data generation completed in 11.58 seconds\n",
            "\n",
            "Stacked data shape: X_all=(20000, 7), y_all=(20000,)\n",
            "Total data points: 20,000\n",
            "Original reconstruction MSE: 0.00e+00\n"
          ]
        }
      ],
      "source": [
        "# Generate trajectories for ALL 100 cell positions\n",
        "print(\"Generating trajectories for all 100 cell positions...\")\n",
        "N_CELLS = 100\n",
        "\n",
        "# Storage for all data\n",
        "all_X_data = []\n",
        "all_y_data = []\n",
        "cell_positions = []\n",
        "\n",
        "start_time = time.time()\n",
        "\n",
        "for cell_pos in range(N_CELLS):\n",
        "    # Get trajectories for this cell position\n",
        "    t_sim_7x7, cell_trajectory_7x7, _ = somitogenesis_sol_func(test_state_7x7, cell_position=cell_pos)\n",
        "    \n",
        "    # Calculate weighted sum for this cell\n",
        "    y_cell = cell_trajectory_7x7 @ w_original_7x7\n",
        "    \n",
        "    # Store data\n",
        "    all_X_data.append(cell_trajectory_7x7)\n",
        "    all_y_data.append(y_cell)\n",
        "    cell_positions.append(cell_pos)\n",
        "    \n",
        "    if (cell_pos + 1) % 20 == 0:\n",
        "        print(f\"Processed {cell_pos + 1}/{N_CELLS} cells...\")\n",
        "\n",
        "end_time = time.time()\n",
        "print(f\"Data generation completed in {end_time - start_time:.2f} seconds\")\n",
        "\n",
        "# Stack all data for regression\n",
        "X_all = np.vstack(all_X_data)  # [N_CELLS * time_points, n_genes]\n",
        "y_all = np.concatenate(all_y_data)  # [N_CELLS * time_points]\n",
        "\n",
        "print(f\"\\nStacked data shape: X_all={X_all.shape}, y_all={y_all.shape}\")\n",
        "print(f\"Total data points: {len(y_all):,}\")\n",
        "print(f\"Original reconstruction MSE: {mean_squared_error(y_all, X_all @ w_original_7x7):.2e}\")\n"
      ]
    },
    {
      "cell_type": "raw",
      "metadata": {
        "vscode": {
          "languageId": "raw"
        }
      },
      "source": [
        "### 5.1 Sparse Regression on Combined Dataset\n"
      ]
    },
    {
      "cell_type": "code",
      "execution_count": null,
      "metadata": {},
      "outputs": [],
      "source": [
        "def reconstruct_test_state_with_lasso_weights(w_lasso, original_test_state, n_nodes):\n",
        "    \"\"\"\n",
        "    Reconstruct test_state by replacing the first row of weight matrix with LASSO weights\n",
        "    and keeping everything else the same.\n",
        "    \"\"\"\n",
        "    # Get original weight matrix\n",
        "    n_weights = n_nodes * n_nodes\n",
        "    original_weights = original_test_state[:n_weights]\n",
        "    W_original = weights_to_matrix(original_weights)\n",
        "    \n",
        "    # Replace first row with LASSO weights\n",
        "    W_new = W_original.copy()\n",
        "    W_new[0, :] = w_lasso  # Replace first row\n",
        "    \n",
        "    # Convert back to flattened weight vector format\n",
        "    # We need to reverse the weights_to_matrix transformation\n",
        "    new_weights = matrix_to_weights(W_new)\n",
        "    \n",
        "    # Reconstruct full test_state (weights + d_values)\n",
        "    new_test_state = original_test_state.copy()\n",
        "    new_test_state[:n_weights] = new_weights\n",
        "    \n",
        "    return new_test_state\n",
        "\n",
        "def matrix_to_weights(W_matrix):\n",
        "    \"\"\"\n",
        "    Convert weight matrix back to flattened weights vector (reverse of weights_to_matrix)\n",
        "    \"\"\"\n",
        "    n_nodes = W_matrix.shape[0]\n",
        "    \n",
        "    if n_nodes == 1:\n",
        "        return [W_matrix[0, 0]]\n",
        "    \n",
        "    if n_nodes == 2:\n",
        "        # For 2x2: [w1,w2,w3,w4] -> [[w1,w4],[w3,w2]]\n",
        "        return [W_matrix[0,0], W_matrix[1,1], W_matrix[1,0], W_matrix[0,1]]\n",
        "    \n",
        "    # For larger matrices, we need to extract in the same order as weights_to_matrix builds them\n",
        "    weights = []\n",
        "    \n",
        "    # First, add weights for the (n-1)x(n-1) submatrix recursively\n",
        "    if n_nodes > 2:\n",
        "        sub_matrix = W_matrix[:n_nodes-1, :n_nodes-1]\n",
        "        weights.extend(matrix_to_weights(sub_matrix))\n",
        "    \n",
        "    # Add diagonal element for last node\n",
        "    weights.append(W_matrix[n_nodes-1, n_nodes-1])\n",
        "    \n",
        "    # Add off-diagonal elements for last row and column\n",
        "    for i in range(n_nodes-1):\n",
        "        weights.append(W_matrix[n_nodes-1, i])  # Last row\n",
        "        weights.append(W_matrix[i, n_nodes-1])  # Last column\n",
        "    \n",
        "    return weights\n",
        "\n",
        "\n",
        "def _fmt_arr(arr, decimals=2):\n",
        "    \"\"\"Format a numpy array or list to string with limited decimals.\"\"\"\n",
        "    arr = np.asarray(arr)\n",
        "    fmt = f\"{{:.{decimals}f}}\"\n",
        "    if arr.ndim == 1:\n",
        "        return \"[\" + \", \".join(fmt.format(x) for x in arr) + \"]\"\n",
        "    elif arr.ndim == 2:\n",
        "        return \"[\" + \"\\n \".join(\"[\" + \", \".join(fmt.format(x) for x in row) + \"]\" for row in arr) + \"]\"\n",
        "    else:\n",
        "        # fallback for higher dims\n",
        "        return np.array2string(arr, formatter={'float_kind':lambda x: fmt.format(x)})\n",
        "\n"
      ]
    },
    {
      "cell_type": "code",
      "execution_count": null,
      "metadata": {},
      "outputs": [
        {
          "name": "stdout",
          "output_type": "stream",
          "text": [
            "Running LASSO analysis on 7x7 system...\n",
            "Original weights (w_original_7x7):\n",
            "[165.00, 175.00, 200.00, -105.00, -10.00, 55.00, 5.00]\n",
            "Original test_state_7x7:\n",
            "[165.00, -120.00, -75.00, 175.00, 155.00, -185.00, 200.00, -165.00, 120.00, -110.00, 20.00, -105.00, -15.00, -55.00, 200.00, 160.00, 5.00, -15.00, -10.00, 160.00, 105.00, 55.00, 100.00, -150.00, 155.00, -150.00, -155.00, 55.00, 55.00, 5.00, -5.00, 10.00, -100.00, 0.00, 10.00, 50.00, -50.00, 50.00, 5.00, -5.00, -5.00, 50.00, 10.00, 50.00, 50.00, 0.00, 0.00, -50.00, 5.00, -200.00, 175.00, 125.00, -130.00, -50.00, 50.00, -5.00]\n",
            "Fitting LASSO with α=0.01...\n",
            "LASSO weights (alpha=0.01):\n",
            "[164.21, 175.18, 198.09, -102.09, -7.83, 43.36, 4.38]\n",
            "Fitting LASSO with α=0.1...\n",
            "LASSO weights (alpha=0.1):\n",
            "[159.93, 178.31, 176.72, -73.45, -0.77, 0.00, 0.00]\n",
            "Fitting LASSO with α=1.0...\n",
            "LASSO weights (alpha=1.0):\n",
            "[149.42, 182.23, 111.15, 0.00, -0.00, 0.00, 0.00]\n",
            "Fitting LASSO with α=10.0...\n",
            "LASSO weights (alpha=10.0):\n",
            "[110.39, 118.21, 96.91, 0.00, 0.00, 0.00, 0.00]\n",
            "\n",
            "\n",
            "Interactive plot for fixed alpha values:\n"
          ]
        },
        {
          "data": {
            "application/vnd.jupyter.widget-view+json": {
              "model_id": "b9c9a43418124fcd8451c94dc55162fd",
              "version_major": 2,
              "version_minor": 0
            },
            "text/plain": [
              "HBox(children=(IntSlider(value=0, continuous_update=False, description='Cell idx:', max=99),))"
            ]
          },
          "metadata": {},
          "output_type": "display_data"
        },
        {
          "data": {
            "application/vnd.jupyter.widget-view+json": {
              "model_id": "7f8f7b7690824bb6bac6062faa1bf3a8",
              "version_major": 2,
              "version_minor": 0
            },
            "text/plain": [
              "Output()"
            ]
          },
          "metadata": {},
          "output_type": "display_data"
        },
        {
          "name": "stdout",
          "output_type": "stream",
          "text": [
            "\n",
            "Interactive plot for user-controlled alpha:\n"
          ]
        },
        {
          "data": {
            "application/vnd.jupyter.widget-view+json": {
              "model_id": "5cea454ebf514c4b84cd9522d8233d91",
              "version_major": 2,
              "version_minor": 0
            },
            "text/plain": [
              "HBox(children=(IntSlider(value=0, continuous_update=False, description='Cell idx:', max=99), FloatLogSlider(va…"
            ]
          },
          "metadata": {},
          "output_type": "display_data"
        },
        {
          "data": {
            "application/vnd.jupyter.widget-view+json": {
              "model_id": "f02113ac1d974c55a52f32eedfab0598",
              "version_major": 2,
              "version_minor": 0
            },
            "text/plain": [
              "Output()"
            ]
          },
          "metadata": {},
          "output_type": "display_data"
        },
        {
          "name": "stdout",
          "output_type": "stream",
          "text": [
            "\n",
            "7x7 LASSO Results Summary:\n",
            "Alpha\t\tZeros\t\tMSE\t\tR²\t\tSparsity\n",
            "----------------------------------------------------------------------\n",
            "0.01\t\t0/7\t\t3.85e-01\t1.0000\t0.0%\n",
            "test_state_7x7 after LASSO (alpha=0.01):\n",
            "[164.00, -120.00, -75.00, 175.00, 155.00, -185.00, 198.00, -165.00, 120.00, -110.00, 20.00, -102.00, -15.00, -55.00, 200.00, 160.00, 5.00, -15.00, -7.00, 160.00, 105.00, 55.00, 100.00, -150.00, 155.00, -150.00, -155.00, 43.00, 55.00, 5.00, -5.00, 10.00, -100.00, 0.00, 10.00, 50.00, -50.00, 50.00, 4.00, -5.00, -5.00, 50.00, 10.00, 50.00, 50.00, 0.00, 0.00, -50.00, 5.00, -200.00, 175.00, 125.00, -130.00, -50.00, 50.00, -5.00]\n",
            "0.1\t\t2/7\t\t1.42e+01\t0.9992\t28.6%\n",
            "test_state_7x7 after LASSO (alpha=0.1):\n",
            "[159.00, -120.00, -75.00, 178.00, 155.00, -185.00, 176.00, -165.00, 120.00, -110.00, 20.00, -73.00, -15.00, -55.00, 200.00, 160.00, 5.00, -15.00, 0.00, 160.00, 105.00, 55.00, 100.00, -150.00, 155.00, -150.00, -155.00, 0.00, 55.00, 5.00, -5.00, 10.00, -100.00, 0.00, 10.00, 50.00, -50.00, 50.00, 0.00, -5.00, -5.00, 50.00, 10.00, 50.00, 50.00, 0.00, 0.00, -50.00, 5.00, -200.00, 175.00, 125.00, -130.00, -50.00, 50.00, -5.00]\n",
            "1\t\t4/7\t\t1.26e+02\t0.9926\t57.1%\n",
            "test_state_7x7 after LASSO (alpha=1.0):\n",
            "[149.00, -120.00, -75.00, 182.00, 155.00, -185.00, 111.00, -165.00, 120.00, -110.00, 20.00, 0.00, -15.00, -55.00, 200.00, 160.00, 5.00, -15.00, 0.00, 160.00, 105.00, 55.00, 100.00, -150.00, 155.00, -150.00, -155.00, 0.00, 55.00, 5.00, -5.00, 10.00, -100.00, 0.00, 10.00, 50.00, -50.00, 50.00, 0.00, -5.00, -5.00, 50.00, 10.00, 50.00, 50.00, 0.00, 0.00, -50.00, 5.00, -200.00, 175.00, 125.00, -130.00, -50.00, 50.00, -5.00]\n",
            "10\t\t4/7\t\t5.67e+03\t0.6691\t57.1%\n",
            "test_state_7x7 after LASSO (alpha=10.0):\n",
            "[110.00, -120.00, -75.00, 118.00, 155.00, -185.00, 96.00, -165.00, 120.00, -110.00, 20.00, 0.00, -15.00, -55.00, 200.00, 160.00, 5.00, -15.00, 0.00, 160.00, 105.00, 55.00, 100.00, -150.00, 155.00, -150.00, -155.00, 0.00, 55.00, 5.00, -5.00, 10.00, -100.00, 0.00, 10.00, 50.00, -50.00, 50.00, 0.00, -5.00, -5.00, 50.00, 10.00, 50.00, 50.00, 0.00, 0.00, -50.00, 5.00, -200.00, 175.00, 125.00, -130.00, -50.00, 50.00, -5.00]\n"
          ]
        }
      ],
      "source": [
        "# LASSO analysis on 7x7 system with all cell data, with interactive cell selection and alpha control\n",
        "print(\"Running LASSO analysis on 7x7 system...\")\n",
        "\n",
        "import ipywidgets as widgets\n",
        "from IPython.display import display, clear_output\n",
        "\n",
        "\n",
        "# Print original weights before LASSO\n",
        "print(\"Original weights (w_original_7x7):\")\n",
        "print(_fmt_arr(w_original_7x7, 2))\n",
        "print(\"Original test_state_7x7:\")\n",
        "print(_fmt_arr(test_state_7x7, 2))\n",
        "\n",
        "\n",
        "# Try different alpha values for 7x7 system\n",
        "alphas_7x7 = [0.01, 0.1, 1.0, 10.0]\n",
        "lasso_results_7x7 = {}\n",
        "\n",
        "# Fit LASSO models and store results (do this once for efficiency)\n",
        "for alpha in alphas_7x7:\n",
        "    print(f\"Fitting LASSO with α={alpha}...\")\n",
        "    \n",
        "    # Fit LASSO\n",
        "    lasso = Lasso(alpha=alpha, max_iter=10000)\n",
        "    lasso.fit(X_all, y_all)\n",
        "    \n",
        "    w_lasso = lasso.coef_\n",
        "    y_pred = X_all @ w_lasso\n",
        "\n",
        "    # Reconstruct test_state after LASSO using provided function\n",
        "    lasso_test_state = reconstruct_test_state_with_lasso_weights(\n",
        "        w_lasso, test_state_7x7, n_nodes_7x7\n",
        "    )\n",
        "\n",
        "    # Print LASSO weights and reconstructed test_state after fitting, rounded to 2 decimals\n",
        "    print(f\"LASSO weights (alpha={alpha}):\")\n",
        "    print(_fmt_arr(w_lasso, 2))\n",
        "    # print(f\"test_state_7x7 after LASSO (alpha={alpha}):\")\n",
        "    # print(_fmt_arr(lasso_test_state, 2))\n",
        "    \n",
        "    # Store results\n",
        "    lasso_results_7x7[alpha] = {\n",
        "        'weights': w_lasso,\n",
        "        'n_zeros': np.sum(np.abs(w_lasso) < 1e-6),\n",
        "        'mse': mean_squared_error(y_all, y_pred),\n",
        "        'r2': r2_score(y_all, y_pred),\n",
        "        'y_pred': y_pred,\n",
        "        'lasso_test_state': lasso_test_state\n",
        "    }\n",
        "\n",
        "\n",
        "\n",
        "# Interactive plotting function for fixed alphas\n",
        "def plot_lasso_cell(cell_idx=0):\n",
        "    fig, axes = plt.subplots(2, 3, figsize=(18, 12))\n",
        "    axes = axes.flatten()\n",
        "    n_timepoints = len(t_sim_7x7)\n",
        "    # Compute the slice for the selected cell\n",
        "    start = cell_idx * n_timepoints\n",
        "    end = (cell_idx + 1) * n_timepoints\n",
        "    y_sample = y_all[start:end]\n",
        "    for i, alpha in enumerate(alphas_7x7):\n",
        "        y_pred = lasso_results_7x7[alpha]['y_pred']\n",
        "        y_pred_sample = y_pred[start:end]\n",
        "        axes[i].plot(t_sim_7x7, y_sample, 'b-', label='Original', linewidth=2)\n",
        "        axes[i].plot(t_sim_7x7, y_pred_sample, 'r--', label='LASSO', linewidth=2)\n",
        "        axes[i].set_title(\n",
        "            f'α={alpha}, Zeros: {lasso_results_7x7[alpha][\"n_zeros\"]}/{n_nodes_7x7}\\n'\n",
        "            f'R²: {lasso_results_7x7[alpha][\"r2\"]:.4f}'\n",
        "        )\n",
        "        axes[i].set_xlabel('Time')\n",
        "        axes[i].set_ylabel('y(t)')\n",
        "        axes[i].legend()\n",
        "        axes[i].grid(True, alpha=0.3)\n",
        "    # Remove extra subplot if needed\n",
        "    if len(axes) > len(alphas_7x7):\n",
        "        fig.delaxes(axes[-1])\n",
        "    plt.tight_layout()\n",
        "    plt.show()\n",
        "\n",
        "# Interactive plotting function for controlled alpha\n",
        "def plot_lasso_cell_alpha(cell_idx=0, alpha=0.01):\n",
        "    # Fit LASSO for the given alpha (if not already fit)\n",
        "    lasso = Lasso(alpha=alpha, max_iter=10000)\n",
        "    lasso.fit(X_all, y_all)\n",
        "    w_lasso = lasso.coef_\n",
        "    y_pred = X_all @ w_lasso\n",
        "    n_zeros = np.sum(np.abs(w_lasso) < 1e-6)\n",
        "    mse = mean_squared_error(y_all, y_pred)\n",
        "    r2 = r2_score(y_all, y_pred)\n",
        "    n_timepoints = len(t_sim_7x7)\n",
        "    start = cell_idx * n_timepoints\n",
        "    end = (cell_idx + 1) * n_timepoints\n",
        "    y_sample = y_all[start:end]\n",
        "    y_pred_sample = y_pred[start:end]\n",
        "    # Reconstruct test_state after LASSO using provided function\n",
        "    lasso_test_state = reconstruct_test_state_with_lasso_weights(\n",
        "        w_lasso, test_state_7x7, n_nodes_7x7\n",
        "    )\n",
        "    # Print weights and reconstructed test_state for this alpha, rounded to 2 decimals\n",
        "    print(f\"\\nOriginal weights (w_original_7x7):\")\n",
        "    print(_fmt_arr(w_original_7x7, 2))\n",
        "    print(f\"LASSO weights (alpha={alpha}):\")\n",
        "    print(_fmt_arr(w_lasso, 2))\n",
        "    print(\"Original test_state_7x7:\")\n",
        "    print(_fmt_arr(test_state_7x7, 2))\n",
        "    print(f\"LASSO test_state_7x7 (alpha={alpha}):\")\n",
        "    print(_fmt_arr(lasso_test_state, 2))\n",
        "    fig, ax = plt.subplots(figsize=(7, 5))\n",
        "    ax.plot(t_sim_7x7, y_sample, 'b-', label='Original', linewidth=2)\n",
        "    ax.plot(t_sim_7x7, y_pred_sample, 'r--', label='LASSO', linewidth=2)\n",
        "    ax.set_title(\n",
        "        f'α={alpha:.4g}, Zeros: {n_zeros}/{n_nodes_7x7}\\n'\n",
        "        f'R²: {r2:.4f}, MSE: {mse:.2e}'\n",
        "    )\n",
        "    ax.set_xlabel('Time')\n",
        "    ax.set_ylabel('y(t)')\n",
        "    ax.legend()\n",
        "    ax.grid(True, alpha=0.3)\n",
        "    plt.tight_layout()\n",
        "    plt.show()\n",
        "\n",
        "# Create slider for cell index\n",
        "cell_slider = widgets.IntSlider(\n",
        "    value=0,\n",
        "    min=0,\n",
        "    max=N_CELLS-1,\n",
        "    step=1,\n",
        "    description='Cell idx:',\n",
        "    continuous_update=False\n",
        ")\n",
        "\n",
        "# Create slider for alpha (log scale)\n",
        "alpha_slider = widgets.FloatLogSlider(\n",
        "    value=0.01,\n",
        "    base=10,\n",
        "    min=-5,  # 1e-5\n",
        "    max=2,   # 10^2 = 100\n",
        "    step=0.01,\n",
        "    description='Alpha:',\n",
        "    continuous_update=False,\n",
        "    readout_format='.4g'\n",
        ")\n",
        "\n",
        "\n",
        "\n",
        "\n",
        "\n",
        "\n",
        "\n",
        "# Display interactive widget for fixed alphas\n",
        "print(\"\\n\\nInteractive plot for fixed alpha values:\")\n",
        "out_fixed = widgets.interactive_output(plot_lasso_cell, {'cell_idx': cell_slider})\n",
        "display(widgets.HBox([cell_slider]), out_fixed)\n",
        "\n",
        "# Display interactive widget for controlled alpha\n",
        "print(\"\\nInteractive plot for user-controlled alpha:\")\n",
        "out_alpha = widgets.interactive_output(plot_lasso_cell_alpha, {'cell_idx': cell_slider, 'alpha': alpha_slider})\n",
        "display(widgets.HBox([cell_slider, alpha_slider]), out_alpha)\n",
        "\n",
        "# Print results summary, including after-LASSO test_state for each alpha\n",
        "print(\"\\n7x7 LASSO Results Summary:\")\n",
        "print(\"Alpha\\t\\tZeros\\t\\tMSE\\t\\tR²\\t\\tSparsity\")\n",
        "print(\"-\" * 70)\n",
        "for alpha in alphas_7x7:\n",
        "    res = lasso_results_7x7[alpha]\n",
        "    sparsity = res['n_zeros'] / n_nodes_7x7 * 100\n",
        "    print(f\"{alpha:g}\\t\\t{res['n_zeros']}/{n_nodes_7x7}\\t\\t{res['mse']:.2e}\\t{res['r2']:.4f}\\t{sparsity:.1f}%\")\n",
        "    print(f\"test_state_7x7 after LASSO (alpha={alpha}):\")\n",
        "    print(_fmt_arr(res['lasso_test_state'], 2))\n"
      ]
    },
    {
      "cell_type": "code",
      "execution_count": null,
      "metadata": {},
      "outputs": [],
      "source": []
    },
    {
      "cell_type": "code",
      "execution_count": null,
      "metadata": {},
      "outputs": [],
      "source": []
    },
    {
      "cell_type": "code",
      "execution_count": null,
      "metadata": {},
      "outputs": [],
      "source": []
    },
    {
      "cell_type": "code",
      "execution_count": null,
      "metadata": {},
      "outputs": [],
      "source": []
    },
    {
      "cell_type": "code",
      "execution_count": null,
      "metadata": {},
      "outputs": [],
      "source": []
    },
    {
      "cell_type": "code",
      "execution_count": null,
      "metadata": {},
      "outputs": [],
      "source": []
    },
    {
      "cell_type": "code",
      "execution_count": null,
      "metadata": {},
      "outputs": [],
      "source": []
    },
    {
      "cell_type": "code",
      "execution_count": null,
      "metadata": {},
      "outputs": [],
      "source": []
    },
    {
      "cell_type": "code",
      "execution_count": null,
      "metadata": {},
      "outputs": [],
      "source": []
    },
    {
      "cell_type": "code",
      "execution_count": null,
      "metadata": {},
      "outputs": [],
      "source": [
        "# OMP analysis on 7x7 system\n",
        "print(\"Running OMP analysis on 7x7 system...\")\n",
        "\n",
        "# Try different sparsity levels\n",
        "n_nonzero_coefs_7x7 = [1, 2, 3, 4, 5, n_nodes_7x7]\n",
        "omp_results_7x7 = {}\n",
        "\n",
        "fig, axes = plt.subplots(2, 3, figsize=(18, 12))\n",
        "axes = axes.flatten()\n",
        "\n",
        "for i, n_coef in enumerate(n_nonzero_coefs_7x7):\n",
        "    if n_coef > n_nodes_7x7:\n",
        "        continue\n",
        "        \n",
        "    print(f\"Fitting OMP with {n_coef} non-zero coefficients...\")\n",
        "    \n",
        "    # Fit OMP\n",
        "    omp = OrthogonalMatchingPursuit(n_nonzero_coefs=n_coef)\n",
        "    omp.fit(X_all, y_all)\n",
        "    \n",
        "    w_omp = omp.coef_\n",
        "    y_pred = X_all @ w_omp\n",
        "    \n",
        "    # Store results\n",
        "    omp_results_7x7[n_coef] = {\n",
        "        'weights': w_omp,\n",
        "        'n_zeros': np.sum(np.abs(w_omp) < 1e-6),\n",
        "        'mse': mean_squared_error(y_all, y_pred),\n",
        "        'r2': r2_score(y_all, y_pred)\n",
        "    }\n",
        "    \n",
        "    # Plot reconstruction for a sample of the data (first cell's trajectory)\n",
        "    n_timepoints = len(t_sim_7x7)\n",
        "    y_sample = y_all[:n_timepoints]\n",
        "    y_pred_sample = y_pred[:n_timepoints]\n",
        "    \n",
        "    axes[i].plot(t_sim_7x7, y_sample, 'b-', label='Original', linewidth=2)\n",
        "    axes[i].plot(t_sim_7x7, y_pred_sample, 'purple', linestyle='--', label='OMP', linewidth=2)\n",
        "    axes[i].set_title(f'OMP: {n_coef} non-zero, Zeros: {omp_results_7x7[n_coef][\"n_zeros\"]}/{n_nodes_7x7}\\\\nR²: {omp_results_7x7[n_coef][\"r2\"]:.4f}')\n",
        "    axes[i].set_xlabel('Time')\n",
        "    axes[i].set_ylabel('y(t)')\n",
        "    axes[i].legend()\n",
        "    axes[i].grid(True, alpha=0.3)\n",
        "\n",
        "# Remove extra subplot\n",
        "fig.delaxes(axes[-1])\n",
        "plt.tight_layout()\n",
        "plt.show()\n",
        "\n",
        "# Print OMP results\n",
        "print(\"\\n7x7 OMP Results Summary:\")\n",
        "print(\"Non-zero\\t\\tZeros\\t\\tMSE\\t\\tR²\\t\\tSparsity\")\n",
        "print(\"-\" * 70)\n",
        "for n_coef in n_nonzero_coefs_7x7:\n",
        "    if n_coef in omp_results_7x7:\n",
        "        res = omp_results_7x7[n_coef]\n",
        "        sparsity = res['n_zeros'] / n_nodes_7x7 * 100\n",
        "        print(f\"{n_coef}\\t\\t{res['n_zeros']}/{n_nodes_7x7}\\t\\t{res['mse']:.2e}\\t{res['r2']:.4f}\\t{sparsity:.1f}%\")\n"
      ]
    },
    {
      "cell_type": "raw",
      "metadata": {
        "vscode": {
          "languageId": "raw"
        }
      },
      "source": [
        "### 5.2 Weight Pattern Comparison and Analysis\n"
      ]
    },
    {
      "cell_type": "code",
      "execution_count": null,
      "metadata": {},
      "outputs": [],
      "source": [
        "# Weight pattern comparison\n",
        "print(\"Analyzing weight patterns...\")\n",
        "\n",
        "# Select best results from each method\n",
        "best_lasso_alpha = min(lasso_results_7x7.keys(), key=lambda k: lasso_results_7x7[k]['mse'] if lasso_results_7x7[k]['n_zeros'] >= 2 else float('inf'))\n",
        "best_omp_coef = min(omp_results_7x7.keys(), key=lambda k: omp_results_7x7[k]['mse'] if omp_results_7x7[k]['n_zeros'] >= 2 else float('inf'))\n",
        "\n",
        "best_lasso_weights = lasso_results_7x7[best_lasso_alpha]['weights']\n",
        "best_omp_weights = omp_results_7x7[best_omp_coef]['weights']\n",
        "\n",
        "# Create comparison plot\n",
        "fig, axes = plt.subplots(2, 2, figsize=(15, 10))\n",
        "\n",
        "# Plot 1: Weight magnitude comparison\n",
        "gene_names = [f'Gene {i+1}' for i in range(n_nodes_7x7)]\n",
        "x_pos = np.arange(n_nodes_7x7)\n",
        "\n",
        "axes[0, 0].bar(x_pos - 0.3, w_original_7x7, 0.2, label='Original', alpha=0.8, color='blue')\n",
        "axes[0, 0].bar(x_pos - 0.1, best_lasso_weights, 0.2, label=f'LASSO (α={best_lasso_alpha})', alpha=0.8, color='red')\n",
        "axes[0, 0].bar(x_pos + 0.1, best_omp_weights, 0.2, label=f'OMP ({best_omp_coef} coeffs)', alpha=0.8, color='purple')\n",
        "axes[0, 0].set_xlabel('Gene')\n",
        "axes[0, 0].set_ylabel('Weight Value')\n",
        "axes[0, 0].set_title('Weight Comparison: Original vs Sparse Methods')\n",
        "axes[0, 0].set_xticks(x_pos)\n",
        "axes[0, 0].set_xticklabels(gene_names, rotation=45)\n",
        "axes[0, 0].legend()\n",
        "axes[0, 0].grid(True, alpha=0.3)\n",
        "axes[0, 0].axhline(y=0, color='black', linestyle='-', alpha=0.3)\n",
        "\n",
        "# Plot 2: Sparsity patterns\n",
        "methods = ['Original', 'LASSO', 'OMP']\n",
        "zero_counts = [\n",
        "    np.sum(w_original_7x7 == 0),\n",
        "    lasso_results_7x7[best_lasso_alpha]['n_zeros'],\n",
        "    omp_results_7x7[best_omp_coef]['n_zeros']\n",
        "]\n",
        "sparsity_percentages = [count / n_nodes_7x7 * 100 for count in zero_counts]\n",
        "\n",
        "colors = ['blue', 'red', 'purple']\n",
        "bars = axes[0, 1].bar(methods, sparsity_percentages, color=colors, alpha=0.7)\n",
        "axes[0, 1].set_ylabel('Sparsity (%)')\n",
        "axes[0, 1].set_title('Sparsity Comparison')\n",
        "axes[0, 1].grid(True, alpha=0.3)\n",
        "\n",
        "# Add value labels on bars\n",
        "for bar, value in zip(bars, sparsity_percentages):\n",
        "    axes[0, 1].text(bar.get_x() + bar.get_width()/2, bar.get_height() + 1, \n",
        "                   f'{value:.1f}%', ha='center', va='bottom')\n",
        "\n",
        "# Plot 3: Reconstruction quality across cells\n",
        "cell_sample = range(0, N_CELLS, 10)  # Sample every 10th cell\n",
        "mse_by_cell_lasso = []\n",
        "mse_by_cell_omp = []\n",
        "\n",
        "for cell_idx in cell_sample:\n",
        "    start_idx = cell_idx * len(t_sim_7x7)\n",
        "    end_idx = (cell_idx + 1) * len(t_sim_7x7)\n",
        "    \n",
        "    y_true_cell = y_all[start_idx:end_idx]\n",
        "    y_pred_lasso_cell = (X_all @ best_lasso_weights)[start_idx:end_idx]\n",
        "    y_pred_omp_cell = (X_all @ best_omp_weights)[start_idx:end_idx]\n",
        "    \n",
        "    mse_by_cell_lasso.append(mean_squared_error(y_true_cell, y_pred_lasso_cell))\n",
        "    mse_by_cell_omp.append(mean_squared_error(y_true_cell, y_pred_omp_cell))\n",
        "\n",
        "axes[1, 0].plot(cell_sample, mse_by_cell_lasso, 'r-o', label='LASSO', linewidth=2)\n",
        "axes[1, 0].plot(cell_sample, mse_by_cell_omp, 'purple', linestyle='--', marker='s', label='OMP', linewidth=2)\n",
        "axes[1, 0].set_xlabel('Cell Position')\n",
        "axes[1, 0].set_ylabel('MSE')\n",
        "axes[1, 0].set_title('Reconstruction Quality Across Cell Positions')\n",
        "axes[1, 0].legend()\n",
        "axes[1, 0].grid(True, alpha=0.3)\n",
        "\n",
        "# Plot 4: Selected weight patterns visualization\n",
        "axes[1, 1].stem(range(n_nodes_7x7), w_original_7x7, linefmt='b-', markerfmt='bo', basefmt=' ', label='Original')\n",
        "axes[1, 1].stem(range(n_nodes_7x7), best_lasso_weights, linefmt='r--', markerfmt='rs', basefmt=' ', label='LASSO')\n",
        "axes[1, 1].stem(range(n_nodes_7x7), best_omp_weights, linefmt='purple', markerfmt='p^', basefmt=' ', label='OMP')\n",
        "axes[1, 1].set_xlabel('Gene Index')\n",
        "axes[1, 1].set_ylabel('Weight Value')\n",
        "axes[1, 1].set_title('Weight Patterns (Stem Plot)')\n",
        "axes[1, 1].legend()\n",
        "axes[1, 1].grid(True, alpha=0.3)\n",
        "axes[1, 1].axhline(y=0, color='black', linestyle='-', alpha=0.3)\n",
        "\n",
        "plt.tight_layout()\n",
        "plt.show()\n",
        "\n",
        "# Print detailed comparison\n",
        "print(f\"\\n{'='*80}\")\n",
        "print(\"7x7 SYSTEM SPARSE REGRESSION RESULTS\")\n",
        "print(f\"{'='*80}\")\n",
        "print(f\"{'Method':<15} {'Zeros':<10} {'Sparsity':<12} {'MSE':<15} {'R²':<10} {'Key Genes'}\")\n",
        "print(\"-\" * 80)\n",
        "\n",
        "print(f\"{'Original':<15} {np.sum(w_original_7x7 == 0)}/{n_nodes_7x7:<8} {np.sum(w_original_7x7 == 0)/n_nodes_7x7*100:>8.1f}% {mean_squared_error(y_all, X_all @ w_original_7x7):<15.2e} {r2_score(y_all, X_all @ w_original_7x7):<10.4f} All genes\")\n",
        "\n",
        "lasso_key_genes = [i+1 for i, w in enumerate(best_lasso_weights) if abs(w) > 1e-6]\n",
        "print(f\"{'LASSO':<15} {lasso_results_7x7[best_lasso_alpha]['n_zeros']}/{n_nodes_7x7:<8} {lasso_results_7x7[best_lasso_alpha]['n_zeros']/n_nodes_7x7*100:>8.1f}% {lasso_results_7x7[best_lasso_alpha]['mse']:<15.2e} {lasso_results_7x7[best_lasso_alpha]['r2']:<10.4f} {lasso_key_genes}\")\n",
        "\n",
        "omp_key_genes = [i+1 for i, w in enumerate(best_omp_weights) if abs(w) > 1e-6]\n",
        "print(f\"{'OMP':<15} {omp_results_7x7[best_omp_coef]['n_zeros']}/{n_nodes_7x7:<8} {omp_results_7x7[best_omp_coef]['n_zeros']/n_nodes_7x7*100:>8.1f}% {omp_results_7x7[best_omp_coef]['mse']:<15.2e} {omp_results_7x7[best_omp_coef]['r2']:<10.4f} {omp_key_genes}\")\n",
        "\n",
        "print(f\"\\nOriginal weights: {w_original_7x7}\")\n",
        "print(f\"LASSO weights:    {np.round(best_lasso_weights, 3)}\")\n",
        "print(f\"OMP weights:      {np.round(best_omp_weights, 3)}\")\n"
      ]
    },
    {
      "cell_type": "code",
      "execution_count": null,
      "metadata": {},
      "outputs": [],
      "source": []
    },
    {
      "cell_type": "code",
      "execution_count": null,
      "metadata": {},
      "outputs": [],
      "source": [
        "### 5.3 Interactive Exploration of 7x7 System\n",
        "\n",
        "def explore_7x7_sparsity(method='LASSO', alpha=0.01, n_coef=3, cell_position=50):\n",
        "    \"\"\"Interactive function to explore 7x7 system sparsity methods\"\"\"\n",
        "    \n",
        "    if method == 'LASSO':\n",
        "        lasso = Lasso(alpha=alpha, max_iter=10000)\n",
        "        lasso.fit(X_all, y_all)\n",
        "        w_sparse = lasso.coef_\n",
        "        \n",
        "    elif method == 'OMP':\n",
        "        omp = OrthogonalMatchingPursuit(n_nonzero_coefs=min(n_coef, n_nodes_7x7))\n",
        "        omp.fit(X_all, y_all)\n",
        "        w_sparse = omp.coef_\n",
        "    \n",
        "    # Calculate reconstruction\n",
        "    y_pred_all = X_all @ w_sparse\n",
        "    mse = mean_squared_error(y_all, y_pred_all)\n",
        "    r2 = r2_score(y_all, y_pred_all)\n",
        "    n_zeros = np.sum(np.abs(w_sparse) < 1e-6)\n",
        "    \n",
        "    # Extract data for specific cell position\n",
        "    start_idx = cell_position * len(t_sim_7x7)\n",
        "    end_idx = (cell_position + 1) * len(t_sim_7x7)\n",
        "    y_true_cell = y_all[start_idx:end_idx]\n",
        "    y_pred_cell = y_pred_all[start_idx:end_idx]\n",
        "    y_original_cell = (X_all @ w_original_7x7)[start_idx:end_idx]\n",
        "    \n",
        "    # Plot\n",
        "    plt.figure(figsize=(16, 6))\n",
        "    \n",
        "    # Plot 1: Time series reconstruction for selected cell\n",
        "    plt.subplot(1, 3, 1)\n",
        "    plt.plot(t_sim_7x7, y_original_cell, 'b-', label='Original weights', linewidth=2)\n",
        "    plt.plot(t_sim_7x7, y_pred_cell, 'r--', label=f'{method} sparse', linewidth=2)\n",
        "    plt.xlabel('Time')\n",
        "    plt.ylabel('y(t)')\n",
        "    plt.title(f'Cell {cell_position} Reconstruction\\\\n{method}: Zeros={n_zeros}/{n_nodes_7x7}, R²={r2:.4f}')\n",
        "    plt.legend()\n",
        "    plt.grid(True, alpha=0.3)\n",
        "    \n",
        "    # Plot 2: Weight comparison\n",
        "    plt.subplot(1, 3, 2)\n",
        "    gene_names = [f'G{i+1}' for i in range(n_nodes_7x7)]\n",
        "    x_pos = np.arange(n_nodes_7x7)\n",
        "    \n",
        "    plt.bar(x_pos - 0.2, w_original_7x7, 0.4, label='Original', alpha=0.7, color='blue')\n",
        "    colors_sparse = ['red' if abs(w) < 1e-6 else 'green' for w in w_sparse]\n",
        "    plt.bar(x_pos + 0.2, w_sparse, 0.4, label=f'{method}', alpha=0.7, color=colors_sparse)\n",
        "    plt.xlabel('Gene')\n",
        "    plt.ylabel('Weight Value')\n",
        "    plt.title('Weight Comparison\\\\n(Red=Zero, Green=Non-zero)')\n",
        "    plt.xticks(x_pos, gene_names)\n",
        "    plt.legend()\n",
        "    plt.grid(True, alpha=0.3)\n",
        "    plt.axhline(y=0, color='black', linestyle='-', alpha=0.3)\n",
        "    \n",
        "    # Plot 3: Sparsity pattern heatmap\n",
        "    plt.subplot(1, 3, 3)\n",
        "    weight_matrix = np.array([w_original_7x7, w_sparse]).T\n",
        "    im = plt.imshow(weight_matrix, cmap='RdBu_r', aspect='auto')\n",
        "    plt.colorbar(im, label='Weight Value')\n",
        "    plt.xlabel('Method')\n",
        "    plt.ylabel('Gene')\n",
        "    plt.title('Weight Heatmap')\n",
        "    plt.xticks([0, 1], ['Original', method])\n",
        "    plt.yticks(range(n_nodes_7x7), gene_names)\n",
        "    \n",
        "    plt.tight_layout()\n",
        "    plt.show()\n",
        "    \n",
        "    # Print summary\n",
        "    key_genes = [i+1 for i, w in enumerate(w_sparse) if abs(w) > 1e-6]\n",
        "    sparsity_improvement = n_zeros - np.sum(w_original_7x7 == 0)\n",
        "    \n",
        "    print(f\"Method: {method}\")\n",
        "    print(f\"Sparsity: {n_zeros}/{n_nodes_7x7} zeros ({n_zeros/n_nodes_7x7*100:.1f}%)\")\n",
        "    print(f\"Sparsity improvement: +{sparsity_improvement} zeros\")\n",
        "    print(f\"Reconstruction quality: R² = {r2:.4f}, MSE = {mse:.2e}\")\n",
        "    print(f\"Key genes (non-zero): {key_genes}\")\n",
        "\n",
        "# Create interactive widget for 7x7 system\n",
        "interact(explore_7x7_sparsity,\n",
        "         method=Dropdown(options=['LASSO', 'OMP'], value='LASSO'),\n",
        "         alpha=FloatSlider(min=0.0001, max=1.0, step=0.001, value=0.01, description='LASSO α'),\n",
        "         n_coef=FloatSlider(min=1, max=n_nodes_7x7, step=1, value=3, description='OMP coeffs'),\n",
        "         cell_position=FloatSlider(min=0, max=99, step=1, value=50, description='Cell Pos'))\n",
        "\n"
      ]
    },
    {
      "cell_type": "code",
      "execution_count": null,
      "metadata": {},
      "outputs": [],
      "source": [
        "## 6. Summary and Applications\n",
        "\n",
        "### Key Findings from 7x7 System Analysis\n",
        "\n",
        "🔬 **Biological Insights:**\n",
        "- **Gene Redundancy**: Many genes contribute minimally to the weighted sum pattern\n",
        "- **Critical Interactions**: Only 2-4 genes are typically needed to reconstruct complex dynamics\n",
        "- **Spatial Consistency**: Sparse patterns work across all cell positions\n",
        "\n",
        "🎯 **Method Performance:**\n",
        "- **LASSO**: Automatically finds sparse solutions, good for exploration\n",
        "- **OMP**: Precise sparsity control, cleaner solutions\n",
        "- **Trade-off**: ~3-4 genes can achieve >95% reconstruction quality\n",
        "\n",
        "### Applications in Gene Network Design\n",
        "\n",
        "**1. Network Compression 🗜️**\n",
        "- Reduce 7-gene system to 3-4 essential genes\n",
        "- Maintain pattern formation capability\n",
        "- Lower complexity for biological implementation\n",
        "\n",
        "**2. Drug Target Identification 🎯**\n",
        "- Identify which genes are critical vs. redundant\n",
        "- Focus therapeutic interventions on key regulators\n",
        "- Predict system robustness to perturbations\n",
        "\n",
        "**3. Evolutionary Biology 🧬**\n",
        "- Understand which genetic interactions are evolutionary conserved\n",
        "- Predict which mutations would be most disruptive\n",
        "- Design minimal viable gene regulatory circuits\n",
        "\n",
        "### Mathematical Insights\n",
        "\n",
        "The sparse regression problem reveals the **effective dimensionality** of the gene regulatory system:\n",
        "\n",
        "$$\\text{Effective Genes} \\ll \\text{Total Genes}$$\n",
        "\n",
        "This suggests that:\n",
        "- Complex patterns can emerge from simple rules\n",
        "- Gene networks have inherent redundancy \n",
        "- Evolutionary pressure favors robust, sparse architectures\n",
        "\n",
        "### Next Steps 🚀\n",
        "\n",
        "1. **Extend to other rows** of the weight matrix\n",
        "2. **Time-varying sparsity** analysis  \n",
        "3. **Nonlinear sparse methods** (sparse neural networks)\n",
        "4. **Multi-objective optimization** (sparsity + biological constraints)\n",
        "\n",
        "The notebook provides a foundation for understanding which gene interactions are truly necessary for pattern formation! 🧬✨\n"
      ]
    }
  ],
  "metadata": {
    "kernelspec": {
      "display_name": "GFN",
      "language": "python",
      "name": "python3"
    },
    "language_info": {
      "codemirror_mode": {
        "name": "ipython",
        "version": 3
      },
      "file_extension": ".py",
      "mimetype": "text/x-python",
      "name": "python",
      "nbconvert_exporter": "python",
      "pygments_lexer": "ipython3",
      "version": "3.9.19"
    }
  },
  "nbformat": 4,
  "nbformat_minor": 2
}
