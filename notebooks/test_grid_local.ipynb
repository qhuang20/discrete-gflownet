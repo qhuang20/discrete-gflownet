{
  "cells": [
    {
      "cell_type": "code",
      "execution_count": 142,
      "metadata": {},
      "outputs": [],
      "source": [
        "# Testing GridEnvLocal - Local Exploration from Given State\n",
        "\n",
        "# This notebook demonstrates the new GridEnvLocal environment that allows local exploration starting from a given state with special action rules.\n"
      ]
    },
    {
      "cell_type": "code",
      "execution_count": 143,
      "metadata": {},
      "outputs": [],
      "source": [
        "import sys\n",
        "import os\n",
        "sys.path.append(os.path.abspath('..'))\n",
        "\n",
        "import numpy as np\n",
        "import torch\n",
        "import matplotlib.pyplot as plt\n",
        "from types import SimpleNamespace\n",
        "\n",
        "# Import the new environment\n",
        "from disc_gflownet.envs.grid_env_local import GridEnvLocal\n",
        "from reward_func.evo_devo import somitogenesis_reward_func\n",
        "from graph.graph import draw_network_motif\n"
      ]
    },
    {
      "cell_type": "raw",
      "metadata": {
        "vscode": {
          "languageId": "raw"
        }
      },
      "source": [
        "## Test Setup - Create GridEnvLocal Environment\n"
      ]
    },
    {
      "cell_type": "code",
      "execution_count": 144,
      "metadata": {},
      "outputs": [
        {
          "name": "stdout",
          "output_type": "stream",
          "text": [
            "Test initial state: [-901, 0, 0, 0, 0, 0, 0, 0, 0, 0, 0, 0]\n",
            "State length: 12 (should be 12 for 3-node network)\n",
            "\n",
            "Environment created successfully!\n",
            "Number of nodes: 3\n",
            "Action space size: 24\n",
            "Encoding dimension: 24012\n",
            "--------------------------------------------------\n",
            "GridEnvLocal: Actions depend on initial state and first action taken\n",
            "Weight actions:\n",
            "  For positive initial values: [100, -10]\n",
            "  For negative initial values: [-100, 10]\n",
            "Diagonal actions:\n",
            "  For positive initial values: [50, -5]\n",
            "  For negative initial values: [-50, 5]\n",
            "Total action dimension: 24\n",
            "Action indexing: 2 slots per dimension\n",
            "--------------------------------------------------\n"
          ]
        }
      ],
      "source": [
        "# Create a test environment with mixed initial values (positive, negative, zero)\n",
        "# Using a smaller 3-node network for easier testing: 3^2 + 3 = 12 dimensions\n",
        "\n",
        "test_initial_state = [\n",
        "    # Weight matrix (3x3 = 9 values): w11, w12, w13, w21, w22, w23, w31, w32, w33\n",
        "    -901,  0,   0,    # First row: positive, zero, negative\n",
        "     0,   0,   0,    # Second row: zero, positive, zero  \n",
        "     0,   0,   0,    # Third row: negative, zero, positive\n",
        "    # Diagonal values (3 values): d1, d2, d3\n",
        "     0,  0,   0     # Diagonal: positive, negative, zero\n",
        "]\n",
        "\n",
        "print(f\"Test initial state: {test_initial_state}\")\n",
        "print(f\"State length: {len(test_initial_state)} (should be 12 for 3-node network)\")\n",
        "\n",
        "# Create config for test environment\n",
        "config = SimpleNamespace(\n",
        "    n_workers=1,\n",
        "    cache_max_size=1000,\n",
        "    min_reward=0.001,\n",
        "    custom_reward_fn=lambda x: np.sum(np.abs(x)) * 0.01,  # Simple reward function\n",
        "    n_steps=20,\n",
        "    n_dims=12,  # 3^2 + 3 = 12 for 3-node network\n",
        "    initial_state=test_initial_state,\n",
        "    actions_per_dim={\n",
        "        'weight': {\n",
        "            'positive': [100, -10],    # For positive initial values\n",
        "            'negative': [-100, 10]     # For negative initial values\n",
        "        },\n",
        "        'diagonal': {\n",
        "            'positive': [50, -5],      # For positive initial values\n",
        "            'negative': [-50, 5]       # For negative initial values\n",
        "        }\n",
        "    },\n",
        "    grid_bound={\n",
        "        'weight': {'min': -1000, 'max': 1000},\n",
        "        'diagonal': {'min': -1000, 'max': 1000}\n",
        "    },\n",
        "    enable_time=False\n",
        ")\n",
        "\n",
        "# Create environment\n",
        "env = GridEnvLocal(config)\n",
        "print(f\"\\nEnvironment created successfully!\")\n",
        "print(f\"Number of nodes: {env.n_nodes}\")\n",
        "print(f\"Action space size: {env.action_dim}\")\n",
        "print(f\"Encoding dimension: {env.encoding_dim}\")\n",
        "\n",
        "# Print action configuration\n",
        "env.print_actions()\n"
      ]
    },
    {
      "cell_type": "raw",
      "metadata": {
        "vscode": {
          "languageId": "raw"
        }
      },
      "source": [
        "## Testing\n"
      ]
    },
    {
      "cell_type": "code",
      "execution_count": 145,
      "metadata": {},
      "outputs": [
        {
          "name": "stdout",
          "output_type": "stream",
          "text": [
            "Testing\n",
            "==================================================\n",
            "Initial state: [-901, 0, 0, 0, 0, 0, 0, 0, 0, 0, 0, 0]\n",
            "Action directions (all should be None): [None, None, None, None, None, None, None, None, None, None, None, None]\n",
            "\n",
            "Action availability by dimension:\n",
            "Dim | Type     | Initial Val | Available Actions\n",
            "---------------------------------------------\n",
            "  0 | weight   |        -901 | [-100, 10]\n",
            "  1 | weight   |           0 | []\n",
            "  2 | weight   |           0 | []\n",
            "  3 | weight   |           0 | []\n",
            "  4 | weight   |           0 | []\n",
            "  5 | weight   |           0 | []\n",
            "  6 | weight   |           0 | []\n",
            "  7 | weight   |           0 | []\n",
            "  8 | weight   |           0 | []\n",
            "  9 | diagonal |           0 | []\n",
            " 10 | diagonal |           0 | []\n",
            " 11 | diagonal |           0 | []\n",
            "\n",
            "Initial action mask:\n",
            "Total actions available: 1 out of 24\n",
            "Available action indices: [1]\n"
          ]
        }
      ],
      "source": [
        "# Reset environment and examine initial state\n",
        "env.reset()\n",
        "print(\"Testing\")\n",
        "print(\"=\" * 50)\n",
        "\n",
        "print(f\"Initial state: {env._state}\")\n",
        "print(f\"Action directions (all should be None): {env.action_directions}\")\n",
        "\n",
        "# Test action availability for each dimension\n",
        "print(f\"\\nAction availability by dimension:\")\n",
        "print(\"Dim | Type     | Initial Val | Available Actions\")\n",
        "print(\"-\" * 45)\n",
        "\n",
        "for dim in range(env.n_dims):\n",
        "    val = test_initial_state[dim]\n",
        "    n_weight_params = env.n_nodes * env.n_nodes\n",
        "    dim_type = \"weight\" if dim < n_weight_params else \"diagonal\"\n",
        "    available_actions = env._get_available_actions(dim)\n",
        "    \n",
        "    print(f\"{dim:3d} | {dim_type:8s} | {val:11d} | {available_actions}\")\n",
        "\n",
        "# Get initial action mask\n",
        "initial_mask = env.get_forward_mask(env._state)\n",
        "print(f\"\\nInitial action mask:\")\n",
        "print(f\"Total actions available: {np.sum(initial_mask)} out of {env.action_dim}\")\n",
        "\n",
        "# Show which specific actions are available\n",
        "available_indices = np.where(initial_mask)[0]\n",
        "print(f\"Available action indices: {available_indices[:]}\")  \n"
      ]
    },
    {
      "cell_type": "raw",
      "metadata": {
        "vscode": {
          "languageId": "raw"
        }
      },
      "source": [
        "## Test Step-by-Step Exploration\n"
      ]
    },
    {
      "cell_type": "code",
      "execution_count": 141,
      "metadata": {},
      "outputs": [
        {
          "name": "stdout",
          "output_type": "stream",
          "text": [
            "Testing Step-by-Step Exploration\n",
            "========================================\n",
            "\n",
            "Total steps taken: 0\n",
            "Current state: [-901, 0, 0, 0, 0, 0, 0, 0, 0, 0, 0, 0]\n",
            "All available action indices: [1]\n",
            "Available actions: 1 out of 24\n",
            "Action directions: [None, None, None, None, None, None, None, None, None, None, None, None]\n",
            "\n",
            "---Taking action idx 1 (dim=0, slot=1, value=10)\n",
            "---Action taken, reward: 8.9110, done: False\n",
            "\n",
            "Total steps taken: 1\n",
            "Current state: [-891, 0, 0, 0, 0, 0, 0, 0, 0, 0, 0, 0]\n",
            "All available action indices: [1]\n",
            "Available actions: 1 out of 24\n",
            "Action directions: ['slot_1', None, None, None, None, None, None, None, None, None, None, None]\n",
            "\n",
            "---Taking action idx 1 (dim=0, slot=1, value=10)\n",
            "---Action taken, reward: 8.8110, done: False\n",
            "\n",
            "Total steps taken: 2\n",
            "Current state: [-881, 0, 0, 0, 0, 0, 0, 0, 0, 0, 0, 0]\n",
            "All available action indices: [1]\n",
            "Available actions: 1 out of 24\n",
            "Action directions: ['slot_1', None, None, None, None, None, None, None, None, None, None, None]\n",
            "\n",
            "---Taking action idx 1 (dim=0, slot=1, value=10)\n",
            "---Action taken, reward: 8.7110, done: False\n",
            "\n",
            "Total steps taken: 3\n",
            "Current state: [-871, 0, 0, 0, 0, 0, 0, 0, 0, 0, 0, 0]\n",
            "All available action indices: [1]\n",
            "Available actions: 1 out of 24\n",
            "Action directions: ['slot_1', None, None, None, None, None, None, None, None, None, None, None]\n",
            "\n",
            "---Taking action idx 1 (dim=0, slot=1, value=10)\n",
            "---Action taken, reward: 8.6110, done: False\n",
            "\n",
            "Total steps taken: 4\n",
            "Current state: [-861, 0, 0, 0, 0, 0, 0, 0, 0, 0, 0, 0]\n",
            "All available action indices: [1]\n",
            "Available actions: 1 out of 24\n",
            "Action directions: ['slot_1', None, None, None, None, None, None, None, None, None, None, None]\n"
          ]
        }
      ],
      "source": [
        "# Reset and perform step-by-step exploration\n",
        "env.reset()\n",
        "print(\"Testing Step-by-Step Exploration\")\n",
        "print(\"=\" * 40)\n",
        "\n",
        "def print_step_info():\n",
        "    mask = env.get_forward_mask(env._state)\n",
        "    available_indices = np.where(mask)[0]\n",
        "    print(f\"\\nTotal steps taken: {env._step}\")\n",
        "    print(f\"Current state: {env._state}\")\n",
        "    print(f\"All available action indices: {available_indices}\")\n",
        "    print(f\"Available actions: {len(available_indices)} out of {env.action_dim}\")\n",
        "    print(f\"Action directions: {env.action_directions}\")\n",
        "    return available_indices\n",
        "\n",
        "\n",
        "available_indices = print_step_info()\n",
        "\n",
        "acrtion_idx = available_indices[0]\n",
        "dim = acrtion_idx // env.slots_per_dim\n",
        "slot = acrtion_idx % env.slots_per_dim\n",
        "current_val = env._state[dim]\n",
        "available_actions = env._get_available_actions(dim)\n",
        "action_val = available_actions[slot] if slot < len(available_actions) else None\n",
        "print(f\"\\n---Taking action idx {acrtion_idx} (dim={dim}, slot={slot}, value={action_val})\")\n",
        "obs, reward, done = env.step(acrtion_idx)\n",
        "print(f\"---Action taken, reward: {reward:.4f}, done: {done}\")\n",
        "available_indices = print_step_info()\n",
        "\n",
        "for _ in range(3):\n",
        "    acrtion_idx = available_indices[0]\n",
        "    dim = acrtion_idx // env.slots_per_dim\n",
        "    slot = acrtion_idx % env.slots_per_dim\n",
        "    current_val = env._state[dim]\n",
        "    available_actions = env._get_available_actions(dim)\n",
        "    action_val = available_actions[slot] if slot < len(available_actions) else None\n",
        "    print(f\"\\n---Taking action idx {acrtion_idx} (dim={dim}, slot={slot}, value={action_val})\")\n",
        "    obs, reward, done = env.step(acrtion_idx)\n",
        "    print(f\"---Action taken, reward: {reward:.4f}, done: {done}\")\n",
        "    available_indices = print_step_info()\n"
      ]
    },
    {
      "cell_type": "raw",
      "metadata": {},
      "source": []
    },
    {
      "cell_type": "raw",
      "metadata": {},
      "source": []
    },
    {
      "cell_type": "raw",
      "metadata": {},
      "source": []
    },
    {
      "cell_type": "raw",
      "metadata": {},
      "source": []
    },
    {
      "cell_type": "raw",
      "metadata": {},
      "source": []
    },
    {
      "cell_type": "raw",
      "metadata": {},
      "source": []
    }
  ],
  "metadata": {
    "kernelspec": {
      "display_name": "gflownet",
      "language": "python",
      "name": "python3"
    },
    "language_info": {
      "codemirror_mode": {
        "name": "ipython",
        "version": 3
      },
      "file_extension": ".py",
      "mimetype": "text/x-python",
      "name": "python",
      "nbconvert_exporter": "python",
      "pygments_lexer": "ipython3",
      "version": "3.8.19"
    }
  },
  "nbformat": 4,
  "nbformat_minor": 2
}
