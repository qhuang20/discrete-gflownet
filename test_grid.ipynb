{
 "cells": [
  {
   "cell_type": "code",
   "execution_count": null,
   "metadata": {},
   "outputs": [],
   "source": [
    "import sys\n",
    "import os\n",
    "\n",
    "# Add the project root directory to sys.path\n",
    "project_root = os.path.abspath(\".\") \n",
    "if project_root not in sys.path:\n",
    "    sys.path.append(project_root)\n",
    "print(sys.path[-1])\n"
   ]
  },
  {
   "cell_type": "code",
   "execution_count": null,
   "metadata": {},
   "outputs": [],
   "source": []
  },
  {
   "cell_type": "markdown",
   "metadata": {},
   "source": [
    "# reward function "
   ]
  },
  {
   "cell_type": "code",
   "execution_count": 3,
   "metadata": {},
   "outputs": [],
   "source": [
    "# Define a custom reward function\n",
    "def coord_reward_func(state):\n",
    "    # Add artificial delay to simulate expensive computation\n",
    "    # time.sleep(0.1)  \n",
    "    \n",
    "    # reward1 = sum(1 for coord in state if coord == 5) + 0.001 # args.min_reward\n",
    "    reward1 = sum(1 for coord in state if coord == 6) \n",
    "    reward2 = sum(2 for coord in state if coord == 8) \n",
    "    return reward1 + reward2\n"
   ]
  },
  {
   "cell_type": "code",
   "execution_count": null,
   "metadata": {},
   "outputs": [],
   "source": [
    "\n",
    "test_weights = [-60, -150, 0, -109, 65, -66, -145, -41, 58] # -41(41), 58 \n",
    "# test_weights = [44, -24, -26, 23, 55, 25, -51, 1, -3]\n",
    "test_weights = [154, -200, 82, -33, 90, -90, -82, -13, 30] \n",
    "reward = somitogenesis_reward_func(test_weights, plot=True)\n",
    "print(f\"Reward for somitogenesis: {reward}\")\n"
   ]
  },
  {
   "cell_type": "code",
   "execution_count": null,
   "metadata": {},
   "outputs": [],
   "source": [
    "# test_weights = [-5, 2, 3, 1, 2, -1, 2, 1, -3] \n",
    "# test_weights = [0, -10, 0, 4, 6, -10, -10, 0, 0]  # w12=-5, w22=..., w23=-10, w31=-10 \n",
    "test_weights = [154, -200, 82, -33, 90, -90, -82, -13, 30] \n",
    "reward = oscillator_reward_func(test_weights, plot=True)\n",
    "print(f\"Reward for oscillator: {reward}\")"
   ]
  },
  {
   "cell_type": "code",
   "execution_count": null,
   "metadata": {},
   "outputs": [],
   "source": []
  },
  {
   "cell_type": "code",
   "execution_count": null,
   "metadata": {},
   "outputs": [],
   "source": []
  },
  {
   "cell_type": "code",
   "execution_count": null,
   "metadata": {},
   "outputs": [],
   "source": []
  },
  {
   "cell_type": "markdown",
   "metadata": {},
   "source": [
    "# Analysis"
   ]
  },
  {
   "cell_type": "code",
   "execution_count": null,
   "metadata": {},
   "outputs": [],
   "source": [
    "title = \"Loss and Z for the ({}) Model\".format(args.method)\n",
    "plot_loss_curve(losses, zs=zs, title=title)\n",
    "print(\"The final Z (partition function) estimate is {:.2f}\".format(zs[-1]))\n",
    "\n",
    "# print(agent.state_counts)\n",
    "# print(agent.state_returns)"
   ]
  },
  {
   "cell_type": "code",
   "execution_count": null,
   "metadata": {},
   "outputs": [],
   "source": [
    "agent.env.print_actions()"
   ]
  },
  {
   "cell_type": "code",
   "execution_count": null,
   "metadata": {},
   "outputs": [],
   "source": []
  },
  {
   "cell_type": "code",
   "execution_count": null,
   "metadata": {},
   "outputs": [],
   "source": []
  },
  {
   "cell_type": "code",
   "execution_count": null,
   "metadata": {},
   "outputs": [],
   "source": [
    "print(\"\\n\")\n",
    "print(\"-\" * 60)\n",
    "print(f\"Number of unique terminal states found: {len(agent.ep_last_state_counts)}\")\n",
    "\n",
    "print(\"-\" * 30)\n",
    "print(\"Top 12 by Avg avg trajectory rewards:\")\n",
    "print(\"-\" * 30)\n",
    "\n",
    "# Calculate average of average trajectory rewards for each state\n",
    "state_avg_rewards = {}\n",
    "for state, trajectories in agent.ep_last_state_trajectories.items():\n",
    "    traj_avgs = []\n",
    "    for traj in trajectories:\n",
    "        rewards = [r[0] for r in traj['rewards']]\n",
    "        traj_avgs.append(sum(rewards) / len(rewards))\n",
    "    state_avg_rewards[state] = sum(traj_avgs) / len(traj_avgs)\n",
    "\n",
    "# Sort states by state_avg_rewards\n",
    "top_reward_states = sorted(\n",
    "    state_avg_rewards.items(),\n",
    "    key=lambda x: x[1],\n",
    "    reverse=True\n",
    ")[:12]\n",
    "\n",
    "for state, avg_reward in top_reward_states:\n",
    "    trajectories = agent.ep_last_state_trajectories[state]\n",
    "    count = agent.ep_last_state_counts[state]\n",
    "    terminal_reward = trajectories[0]['rewards'][-1][0]\n",
    "    print(f\"State: {state}, Count: {count}, Terminal reward: {terminal_reward:.3f}, Avg avg trajectory reward: {avg_reward:.3f}\")\n",
    "    \n",
    "    # Print all trajectories for this state\n",
    "    print(\"All trajectories:\")\n",
    "    for i, traj in enumerate(trajectories):\n",
    "        rewards = [r[0] for r in traj['rewards']]\n",
    "        traj_avg = sum(rewards) / len(rewards)\n",
    "        print(f\"\\nTrajectory {i+1}:\")\n",
    "        print(f\"Rewards: {[f'{r:.3f}' for r in rewards]}, Average: {traj_avg:.3f}\")\n",
    "        print(\"States along trajectory:\")\n",
    "        for j, state_encoding in enumerate(traj['states']):\n",
    "            state = agent.encoding_to_state(state_encoding)\n",
    "            if agent.env.enable_time:\n",
    "                state = tuple(state[1:])  # Remove time component\n",
    "            print(f\"Step {j}: {state}\")\n",
    "    print(\"\")\n",
    "\n",
    "print(\"-\" * 30)\n",
    "print(\"Top 12 by visit count:\")\n",
    "print(\"-\" * 30)\n",
    "\n",
    "top_count_states = sorted(\n",
    "    agent.ep_last_state_counts.items(),\n",
    "    key=lambda x: x[1],\n",
    "    reverse=True\n",
    ")[:12]\n",
    "\n",
    "for state, count in top_count_states:\n",
    "    trajectories = agent.ep_last_state_trajectories[state]\n",
    "    terminal_reward = trajectories[0]['rewards'][-1][0]\n",
    "    print(f\"State: {state}, Count: {count}, Terminal reward: {terminal_reward:.3f}, Avg avg trajectory reward: {state_avg_rewards[state]:.3f}\")\n",
    "    \n",
    "    # Print top 3 trajectories by average reward\n",
    "    sorted_trajectories = sorted(\n",
    "        trajectories,\n",
    "        key=lambda t: sum(r[0] for r in t['rewards']) / len(t['rewards']),\n",
    "        reverse=True\n",
    "    )[:3]\n",
    "    for traj in sorted_trajectories:\n",
    "        rewards = [r[0] for r in traj['rewards']]\n",
    "        traj_avg = sum(rewards) / len(rewards)\n",
    "        print(f\"Trajectory rewards: {[f'{r:.3f}' for r in rewards]}, Average: {traj_avg:.3f}\")\n",
    "    print(\"\")\n",
    "print(\"\\n\")\n"
   ]
  },
  {
   "cell_type": "code",
   "execution_count": null,
   "metadata": {},
   "outputs": [],
   "source": []
  },
  {
   "cell_type": "code",
   "execution_count": null,
   "metadata": {},
   "outputs": [],
   "source": []
  },
  {
   "cell_type": "code",
   "execution_count": null,
   "metadata": {},
   "outputs": [],
   "source": []
  },
  {
   "cell_type": "code",
   "execution_count": null,
   "metadata": {},
   "outputs": [],
   "source": []
  },
  {
   "cell_type": "code",
   "execution_count": null,
   "metadata": {},
   "outputs": [],
   "source": []
  },
  {
   "cell_type": "code",
   "execution_count": null,
   "metadata": {},
   "outputs": [],
   "source": []
  },
  {
   "cell_type": "markdown",
   "metadata": {},
   "source": [
    "# testing"
   ]
  },
  {
   "cell_type": "code",
   "execution_count": null,
   "metadata": {},
   "outputs": [],
   "source": [
    "\n",
    "\"\"\"Test case: Mixed positive/negative actions\"\"\"\n",
    "\n",
    "args_mixed = argparse.Namespace(\n",
    "    min_reward=0.001,\n",
    "    custom_reward_fn=coord_reward_func,\n",
    "    n_steps=5,\n",
    "    n_dims=2,\n",
    "    actions_per_dim=[1, -1, 2, -2],  # Mixed positive and negative actions\n",
    "    grid_bound=5,\n",
    "    enable_time=True\n",
    ")\n",
    "env_mixed = GridEnv(args_mixed)\n",
    "env_mixed.print_actions()\n",
    "env_mixed.reset()\n",
    "\n",
    "mixed_test_state = (17, [-5, -5])\n",
    "print(\"forward: \", env_mixed.get_forward_mask(mixed_test_state))\n",
    "print(\"backward: \", env_mixed.get_backward_mask(mixed_test_state))\n",
    "print(\"step: \", env_mixed._step)\n",
    "print()  # Add blank line between iterations\n",
    "\n"
   ]
  },
  {
   "cell_type": "code",
   "execution_count": null,
   "metadata": {},
   "outputs": [],
   "source": []
  },
  {
   "cell_type": "code",
   "execution_count": null,
   "metadata": {},
   "outputs": [],
   "source": [
    "import time\n",
    "\n",
    "# Function that simulates an expensive computation\n",
    "def expensive_computation(x):\n",
    "    time.sleep(0.1)  # Simulate work\n",
    "    return x * 2\n",
    "\n",
    "# Test without cache\n",
    "print(\"Without cache:\")\n",
    "start_time = time.time()\n",
    "for i in range(10):\n",
    "    # Compute same values multiple times\n",
    "    result = expensive_computation(i % 3)  # Only compute 0,1,2 repeatedly\n",
    "    print(f\"Computing {i % 3} -> {result}\")\n",
    "no_cache_time = time.time() - start_time\n",
    "print(f\"Time without cache: {no_cache_time:.2f}s\\n\")\n",
    "\n",
    "# Test with cache\n",
    "print(\"With cache:\")\n",
    "cache = LRUCache(max_size=3)\n",
    "start_time = time.time()\n",
    "for i in range(10):\n",
    "    key = i % 3\n",
    "    if key in cache:\n",
    "        result = cache[key]\n",
    "        print(f\"Cache hit for {key} -> {result}\")\n",
    "    else:\n",
    "        result = expensive_computation(key)\n",
    "        cache[key] = result\n",
    "        print(f\"Cache miss for {key} -> {result}\")\n",
    "cache_time = time.time() - start_time\n",
    "print(f\"Time with cache: {cache_time:.2f}s\")\n",
    "\n",
    "print(f\"\\nCache speedup: {no_cache_time/cache_time:.1f}x faster\")\n"
   ]
  },
  {
   "cell_type": "code",
   "execution_count": null,
   "metadata": {},
   "outputs": [],
   "source": []
  },
  {
   "cell_type": "code",
   "execution_count": null,
   "metadata": {},
   "outputs": [],
   "source": []
  },
  {
   "cell_type": "code",
   "execution_count": null,
   "metadata": {},
   "outputs": [],
   "source": []
  }
 ],
 "metadata": {
  "kernelspec": {
   "display_name": "gflownet",
   "language": "python",
   "name": "python3"
  },
  "language_info": {
   "codemirror_mode": {
    "name": "ipython",
    "version": 3
   },
   "file_extension": ".py",
   "mimetype": "text/x-python",
   "name": "python",
   "nbconvert_exporter": "python",
   "pygments_lexer": "ipython3",
   "version": "3.8.19"
  }
 },
 "nbformat": 4,
 "nbformat_minor": 2
}
