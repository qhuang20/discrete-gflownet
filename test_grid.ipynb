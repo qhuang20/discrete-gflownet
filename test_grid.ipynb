{
 "cells": [
  {
   "cell_type": "code",
   "execution_count": 2,
   "metadata": {},
   "outputs": [
    {
     "name": "stdout",
     "output_type": "stream",
     "text": [
      "/home/dannyhuang/gfn_test/discrete-gflownet\n"
     ]
    }
   ],
   "source": [
    "import sys\n",
    "import os\n",
    "\n",
    "# Add the project root directory to sys.path\n",
    "project_root = os.path.abspath(\".\") \n",
    "if project_root not in sys.path:\n",
    "    sys.path.append(project_root)\n",
    "print(sys.path[-1])\n",
    "\n",
    "\n",
    "from reward_func.evo_devo import coord_reward_func, oscillator_reward_func, somitogenesis_reward_func\n"
   ]
  },
  {
   "cell_type": "code",
   "execution_count": 3,
   "metadata": {},
   "outputs": [
    {
     "name": "stdout",
     "output_type": "stream",
     "text": [
      "Time taken to run coord_reward_func: 0.000024570 seconds\n",
      "Test reward for state (50, -53, -57, 8, 9, -6, -117, 81, 8): 4\n"
     ]
    }
   ],
   "source": [
    "import time\n",
    "\n",
    "test_state = (50, -53, -57, 8, 9, -6, -117, 81, 8)\n",
    "\n",
    "start_time = time.perf_counter_ns()\n",
    "test_reward = coord_reward_func(test_state)\n",
    "end_time = time.perf_counter_ns()\n",
    "print(f\"Time taken to run coord_reward_func: {(end_time - start_time)/1e9:.9f} seconds\")\n",
    "\n",
    "print(f\"Test reward for state {test_state}: {test_reward}\")\n",
    "    \n",
    "\n",
    "\n",
    "\n",
    "# test_weights = [-5, 2, 3, 1, 2, -1, 2, 1, -3] \n",
    "# test_weights = [0, -10, 0, 4, 6, -10, -10, 0, 0]  # w12=-5, w22=..., w23=-10, w31=-10 \n",
    "# test_weights = [154, -200, 82, -33, 90, -90, -82, -13, 30] \n",
    "# reward = oscillator_reward_func(test_weights, plot=True)\n",
    "# print(f\"Reward for oscillator: {reward}\")"
   ]
  },
  {
   "cell_type": "code",
   "execution_count": null,
   "metadata": {},
   "outputs": [],
   "source": []
  },
  {
   "cell_type": "code",
   "execution_count": null,
   "metadata": {},
   "outputs": [],
   "source": []
  },
  {
   "cell_type": "code",
   "execution_count": null,
   "metadata": {},
   "outputs": [],
   "source": []
  },
  {
   "cell_type": "code",
   "execution_count": null,
   "metadata": {},
   "outputs": [],
   "source": []
  },
  {
   "cell_type": "code",
   "execution_count": null,
   "metadata": {},
   "outputs": [],
   "source": []
  },
  {
   "cell_type": "code",
   "execution_count": null,
   "metadata": {},
   "outputs": [],
   "source": [
    "# Import plotting function from graph module\n",
    "from graph.graph import draw_network_motif\n",
    "import matplotlib.pyplot as plt\n",
    "\n",
    "# test_weights = (126, -125, -56, 107, 105, -126, 100, -11, 175, 1, 1, 1, 1, 1, 1, 16, 17, 18, 19, 20, 21, 22, 23, 24, 25) \n",
    "# test_weights = (-6, -25, 0, 5, -25, 25, 0, 0, 200, 25, -200, 0, 0, 0, -1, 0, 0, 0, 0, 0, 15, 0, 5, 0, 0, 25, 0, 5, 0, 0, 0, -25, -25, 1, 0, 0, 1, -25, 0, 10, 10, 0, -5, -25, 0, 5, 1, -1, 0)\n",
    "\n",
    "test_weights = [60, 32, -38, -85, 70, -63, 22, -27, -7]\n",
    "test_weights = [60, 32, -38, -85, 70, -63, 22, -27, -7, -1, -11, 12, 13, 14, 0, 1]\n",
    "test_weights = [1, 2, 8, 5, 0, 0, 0, 0, 0, 0, 0, 0, 0, 0, 15, 16]\n",
    "\n",
    "test_weights = [200, 0, 0, 25, 0, 0, -200, 25, 0]\n",
    "test_weights = [-100, 0, 0, -100, 0, 0, -100, 0, 0]\n",
    "\n",
    "# Create figure with two subplots\n",
    "fig, (ax1, ax2) = plt.subplots(2, 1, figsize=(7, 12))\n",
    "\n",
    "# Plot network motif\n",
    "draw_network_motif(test_weights, ax=ax1)\n",
    "ax1.set_title(\"Network Motif\")\n",
    "\n",
    "# Plot somite pattern and get reward\n",
    "start_time = time.perf_counter_ns()\n",
    "reward = somitogenesis_reward_func(test_weights, plot=True, ax=ax2)\n",
    "print(f\"Reward for somitogenesis: {reward}\")\n",
    "end_time = time.perf_counter_ns()\n",
    "print(f\"Time taken to run somitogenesis_reward_func: {(end_time - start_time)/1e9:.9f} seconds\")\n",
    "\n",
    "plt.tight_layout()\n"
   ]
  },
  {
   "cell_type": "code",
   "execution_count": null,
   "metadata": {},
   "outputs": [],
   "source": [
    "# Import plotting function from graph module\n",
    "from graph.graph import plot_network_motifs_and_somites\n",
    "\n",
    "# Define test weights to visualize\n",
    "test_weights_list = [\n",
    "    # (65, -110, 52, -40, 32, -8, -65, -32, 71),\n",
    "    [-5, 200, -6, -51, -26, 5, 5, 1, -125, 25, 30, 100, 0, 60, -5, -25, -1, 5, 0, -75, 30, 0, -1, -200, -25],\n",
    "    [60, 32, -38, -85, 70, -63, 22, -27, -7],\n",
    "    [60, 32, -38, -85, 70, -63, 22, -27, -7, 0, 0, 0, 0, 0, 0, 0]\n",
    "]\n",
    "\n",
    "# Plot network motifs and their corresponding somite patterns\n",
    "save_path = plot_network_motifs_and_somites(test_weights_list)\n",
    "print(f\"Plot saved to: {save_path}\")\n",
    "\n"
   ]
  },
  {
   "cell_type": "code",
   "execution_count": null,
   "metadata": {},
   "outputs": [],
   "source": []
  },
  {
   "cell_type": "code",
   "execution_count": null,
   "metadata": {},
   "outputs": [],
   "source": []
  },
  {
   "cell_type": "code",
   "execution_count": null,
   "metadata": {},
   "outputs": [],
   "source": []
  },
  {
   "cell_type": "code",
   "execution_count": 63,
   "metadata": {},
   "outputs": [],
   "source": []
  },
  {
   "cell_type": "code",
   "execution_count": null,
   "metadata": {},
   "outputs": [],
   "source": []
  },
  {
   "cell_type": "code",
   "execution_count": null,
   "metadata": {},
   "outputs": [],
   "source": []
  },
  {
   "cell_type": "code",
   "execution_count": 15,
   "metadata": {},
   "outputs": [],
   "source": [
    "# import time\n",
    "\n",
    "# # Function that simulates an expensive computation\n",
    "# def expensive_computation(x):\n",
    "#     time.sleep(0.1)  # Simulate work\n",
    "#     return x * 2\n",
    "\n",
    "# # Test without cache\n",
    "# print(\"Without cache:\")\n",
    "# start_time = time.time()\n",
    "# for i in range(10):\n",
    "#     # Compute same values multiple times\n",
    "#     result = expensive_computation(i % 3)  # Only compute 0,1,2 repeatedly\n",
    "#     print(f\"Computing {i % 3} -> {result}\")\n",
    "# no_cache_time = time.time() - start_time\n",
    "# print(f\"Time without cache: {no_cache_time:.2f}s\\n\")\n",
    "\n",
    "# # Test with cache\n",
    "# print(\"With cache:\")\n",
    "# cache = LRUCache(max_size=3)\n",
    "# start_time = time.time()\n",
    "# for i in range(10):\n",
    "#     key = i % 3\n",
    "#     if key in cache:\n",
    "#         result = cache[key]\n",
    "#         print(f\"Cache hit for {key} -> {result}\")\n",
    "#     else:\n",
    "#         result = expensive_computation(key)\n",
    "#         cache[key] = result\n",
    "#         print(f\"Cache miss for {key} -> {result}\")\n",
    "# cache_time = time.time() - start_time\n",
    "# print(f\"Time with cache: {cache_time:.2f}s\")\n",
    "\n",
    "# print(f\"\\nCache speedup: {no_cache_time/cache_time:.1f}x faster\")\n"
   ]
  },
  {
   "cell_type": "code",
   "execution_count": null,
   "metadata": {},
   "outputs": [],
   "source": []
  },
  {
   "cell_type": "code",
   "execution_count": null,
   "metadata": {},
   "outputs": [],
   "source": []
  },
  {
   "cell_type": "code",
   "execution_count": null,
   "metadata": {},
   "outputs": [],
   "source": []
  },
  {
   "cell_type": "code",
   "execution_count": null,
   "metadata": {},
   "outputs": [],
   "source": []
  },
  {
   "cell_type": "code",
   "execution_count": null,
   "metadata": {},
   "outputs": [],
   "source": [
    "import numpy as np\n",
    "import time\n",
    "from numba import njit, prange, set_num_threads, threading_layer\n",
    "import os\n",
    "\n",
    "import multiprocessing\n",
    "\n",
    "print(\"CPU cores available:\", multiprocessing.cpu_count())\n",
    "set_num_threads(4)  # Manually limit to 4 cores\n",
    "\n",
    "\n",
    "\n",
    "\n",
    "# Slow Python loop\n",
    "def compute_squares_python(arr):\n",
    "    return [x**2 for x in arr]\n",
    "\n",
    "# Fast Numba compiled loop (Single-threaded)\n",
    "@njit  # Just-in-time compilation\n",
    "def compute_squares_numba(arr):\n",
    "    result = np.empty_like(arr)\n",
    "    for i in range(len(arr)):  # Regular loop (single-threaded)\n",
    "        result[i] = arr[i] ** 2\n",
    "    return result\n",
    "\n",
    "# Faster Numba compiled loop (Parallelized)\n",
    "@njit(parallel=True)\n",
    "def compute_squares_parallel(arr):\n",
    "    result = np.empty_like(arr)\n",
    "    for i in prange(len(arr)):\n",
    "        result[i] = arr[i] ** 2\n",
    "    return result\n",
    "\n",
    "# Test the speed\n",
    "arr = np.arange(10**9)\n",
    "\n",
    "# # Python loop\n",
    "# start = time.time()\n",
    "# compute_squares_python(arr)  \n",
    "# print(\"Python loop time:\", time.time() - start)\n",
    "\n",
    "# Numba single-threaded\n",
    "start = time.time()\n",
    "compute_squares_numba(arr)  \n",
    "print(\"Numba single-threaded time:\", time.time() - start)\n",
    "\n",
    "# Numba parallel\n",
    "start = time.time()\n",
    "compute_squares_parallel(arr)  \n",
    "print(\"Numba parallel time:\", time.time() - start)\n",
    "\n"
   ]
  },
  {
   "cell_type": "code",
   "execution_count": null,
   "metadata": {},
   "outputs": [],
   "source": []
  },
  {
   "cell_type": "code",
   "execution_count": null,
   "metadata": {},
   "outputs": [],
   "source": []
  },
  {
   "cell_type": "code",
   "execution_count": null,
   "metadata": {},
   "outputs": [],
   "source": []
  },
  {
   "cell_type": "code",
   "execution_count": null,
   "metadata": {},
   "outputs": [],
   "source": []
  },
  {
   "cell_type": "code",
   "execution_count": 11,
   "metadata": {},
   "outputs": [
    {
     "name": "stdout",
     "output_type": "stream",
     "text": [
      "encoding_dim:  42\n",
      "Test 1 - Basic encoding/decoding:\n",
      "Original state: [ -9 -10]\n",
      "Encoded: [0 1 0 0 0 0 0 0 0 0 0 0 0 0 0 0 0 0 0 0 0 1 0 0 0 0 0 0 0 0 0 0 0 0 0 0 0\n",
      " 0 0 0 0 0]\n",
      "Decoded state: [ -9 -10]\n",
      "Match: True\n",
      "\n"
     ]
    }
   ],
   "source": [
    "import argparse\n",
    "from disc_gflownet.envs.grid_env import GridEnv\n",
    "import numpy as np\n",
    "\n",
    "# Test cases for Gray code encoding/decoding\n",
    "args = argparse.Namespace(\n",
    "    min_reward=0.001,\n",
    "    custom_reward_fn=coord_reward_func,\n",
    "    n_workers = 1, \n",
    "    cache_max_size = 10000, \n",
    "    consistent_signs = True, \n",
    "    n_steps=2,\n",
    "    n_dims=2,  # Testing with 1 dimension\n",
    "    actions_per_dim=[-1, 1],  # Mixed positive and negative actions\n",
    "    grid_bound=10,\n",
    "    enable_time=False\n",
    ")\n",
    "env = GridEnv(args)\n",
    "print('encoding_dim: ', env.encoding_dim)\n",
    "\n",
    "# Test case 1: Basic encoding/decoding without time\n",
    "test_state = np.array([-9, -10])  # Single dimension state\n",
    "encoded = env.state_to_encoding(test_state)\n",
    "decoded = env.encoding_to_state(encoded)\n",
    "print(\"Test 1 - Basic encoding/decoding:\")\n",
    "print(f\"Original state: {test_state}\")\n",
    "print(f\"Encoded: {encoded}\")\n",
    "print(f\"Decoded state: {decoded}\")\n",
    "print(f\"Match: {np.array_equal(test_state, decoded)}\\n\")\n",
    "\n",
    "# # Test case 2: Test one step\n",
    "# env.reset()\n",
    "# env.print_actions()\n",
    "# obs, reward, done = env.step(2) \n",
    "# print(\"Test 2 - One step:\")\n",
    "# print(f\"Observation after step: {obs}\")\n",
    "# print(f\"Current state: {env._state}\\n\")\n",
    "# obs, reward, done = env.step(6) \n",
    "# print(\"Test 2 - One step:\")\n",
    "# print(f\"Observation after step: {obs}\")\n",
    "# print(f\"Current state: {env._state}\\n\")\n",
    "\n"
   ]
  },
  {
   "cell_type": "code",
   "execution_count": null,
   "metadata": {},
   "outputs": [],
   "source": []
  },
  {
   "cell_type": "code",
   "execution_count": null,
   "metadata": {},
   "outputs": [],
   "source": []
  }
 ],
 "metadata": {
  "kernelspec": {
   "display_name": "gflownet",
   "language": "python",
   "name": "python3"
  },
  "language_info": {
   "codemirror_mode": {
    "name": "ipython",
    "version": 3
   },
   "file_extension": ".py",
   "mimetype": "text/x-python",
   "name": "python",
   "nbconvert_exporter": "python",
   "pygments_lexer": "ipython3",
   "version": "3.9.19"
  }
 },
 "nbformat": 4,
 "nbformat_minor": 2
}
